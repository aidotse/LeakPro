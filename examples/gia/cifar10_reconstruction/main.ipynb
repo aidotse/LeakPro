{
 "cells": [
  {
   "cell_type": "code",
   "execution_count": 1,
   "metadata": {},
   "outputs": [],
   "source": [
    "import os\n",
    "import sys\n",
    "\n",
    "project_root = os.path.abspath(os.path.join(os.getcwd(), \"../../..\"))\n",
    "sys.path.append(project_root)"
   ]
  },
  {
   "cell_type": "markdown",
   "metadata": {},
   "source": [
    "First, create the global and the local model update (along with the metadata to replicate the training)"
   ]
  },
  {
   "cell_type": "code",
   "execution_count": 2,
   "metadata": {},
   "outputs": [
    {
     "name": "stdout",
     "output_type": "stream",
     "text": [
      "Files already downloaded and verified\n",
      "Files already downloaded and verified\n"
     ]
    },
    {
     "name": "stderr",
     "output_type": "stream",
     "text": [
      "Training Progress: 100%|██████████| 1/1 [01:29<00:00, 89.63s/it]"
     ]
    },
    {
     "name": "stdout",
     "output_type": "stream",
     "text": [
      "Train accuracy: 0.30922, Test accuracy: 0.4134\n"
     ]
    },
    {
     "name": "stderr",
     "output_type": "stream",
     "text": [
      "\n"
     ]
    },
    {
     "ename": "TypeError",
     "evalue": "Subset.__init__() got an unexpected keyword argument 'batch_size'",
     "output_type": "error",
     "traceback": [
      "\u001b[0;31m---------------------------------------------------------------------------\u001b[0m",
      "\u001b[0;31mTypeError\u001b[0m                                 Traceback (most recent call last)",
      "Cell \u001b[0;32mIn[2], line 23\u001b[0m\n\u001b[1;32m     21\u001b[0m \u001b[38;5;66;03m# Train the local model on a subset (4 images) of the training data\u001b[39;00m\n\u001b[1;32m     22\u001b[0m local_indices \u001b[38;5;241m=\u001b[39m [\u001b[38;5;241m0\u001b[39m, \u001b[38;5;241m1\u001b[39m, \u001b[38;5;241m2\u001b[39m, \u001b[38;5;241m3\u001b[39m]\n\u001b[0;32m---> 23\u001b[0m local_data \u001b[38;5;241m=\u001b[39m \u001b[43mSubset\u001b[49m\u001b[43m(\u001b[49m\u001b[43mtrain_loader\u001b[49m\u001b[38;5;241;43m.\u001b[39;49m\u001b[43mdataset\u001b[49m\u001b[43m,\u001b[49m\u001b[43m \u001b[49m\u001b[43mlocal_indices\u001b[49m\u001b[43m,\u001b[49m\u001b[43m \u001b[49m\u001b[43mbatch_size\u001b[49m\u001b[38;5;241;43m=\u001b[39;49m\u001b[38;5;241;43m4\u001b[39;49m\u001b[43m)\u001b[49m\n\u001b[1;32m     25\u001b[0m train_model(target_model, \n\u001b[1;32m     26\u001b[0m             train_loader, \n\u001b[1;32m     27\u001b[0m             test_loader, \n\u001b[0;32m   (...)\u001b[0m\n\u001b[1;32m     30\u001b[0m             model_name \u001b[38;5;241m=\u001b[39m \u001b[38;5;124m\"\u001b[39m\u001b[38;5;124mlocal_model\u001b[39m\u001b[38;5;124m\"\u001b[39m, \n\u001b[1;32m     31\u001b[0m             save_metadata \u001b[38;5;241m=\u001b[39m \u001b[38;5;28;01mTrue\u001b[39;00m)\n",
      "\u001b[0;31mTypeError\u001b[0m: Subset.__init__() got an unexpected keyword argument 'batch_size'"
     ]
    }
   ],
   "source": [
    "from torch.utils.data import Subset, DataLoader\n",
    "from examples.gia.cifar10_reconstruction.utils.model_preparation import ResNet, train_model\n",
    "from examples.gia.cifar10_reconstruction.utils.data_preparation import CifarDataset\n",
    "\n",
    "# Load the dataset\n",
    "dataobject = CifarDataset()\n",
    "train_loader, test_loader = dataobject.get_train_val_loaders()\n",
    "\n",
    "# Load the model\n",
    "target_model = ResNet(num_classes=10)\n",
    "\n",
    "# Train the global model on all training data\n",
    "train_model(target_model,\n",
    "            train_loader, \n",
    "            test_loader, \n",
    "            epochs=1, \n",
    "            save_model = True, \n",
    "            model_name = \"global_model\", \n",
    "            save_metadata = False)\n",
    "\n",
    "# Train the local model on a subset (4 images) of the training data\n",
    "local_indices = [0, 1, 2, 3]\n",
    "local_data = Subset(train_loader.dataset, local_indices)\n",
    "local_train_loader = DataLoader(local_data, batch_size=4, shuffle=True)\n",
    "\n",
    "train_model(target_model, \n",
    "            local_train_loader, \n",
    "            test_loader, \n",
    "            epochs=1, \n",
    "            save_model = True, \n",
    "            model_name = \"local_model\", \n",
    "            save_metadata = True)\n"
   ]
  },
  {
   "cell_type": "code",
   "execution_count": null,
   "metadata": {},
   "outputs": [],
   "source": [
    "from input_handler import Cifar10GIAInputHandler\n",
    "\n",
    "from leakpro import LeakPro\n",
    "\n",
    "# Read the config file\n",
    "config_path = \"audit.yaml\"\n",
    "\n",
    "# Prepare leakpro object\n",
    "leakpro = LeakPro(Cifar10GIAInputHandler, config_path)\n",
    "\n",
    "# Run the audit \n",
    "leakpro.run_audit()"
   ]
  }
 ],
 "metadata": {
  "kernelspec": {
   "display_name": "leakpro_test",
   "language": "python",
   "name": "python3"
  },
  "language_info": {
   "codemirror_mode": {
    "name": "ipython",
    "version": 3
   },
   "file_extension": ".py",
   "mimetype": "text/x-python",
   "name": "python",
   "nbconvert_exporter": "python",
   "pygments_lexer": "ipython3",
   "version": "3.12.5"
  }
 },
 "nbformat": 4,
 "nbformat_minor": 2
}
