{
 "cells": [
  {
   "cell_type": "code",
   "execution_count": 1,
   "metadata": {},
   "outputs": [],
   "source": [
    "import os\n",
    "import sys\n",
    "\n",
    "project_root = os.path.abspath(os.path.join(os.getcwd(), \"../../..\"))\n",
    "sys.path.append(project_root)"
   ]
  },
  {
   "cell_type": "markdown",
   "metadata": {},
   "source": [
    "First, create the global and the local model update (along with the metadata to replicate the training)"
   ]
  },
  {
   "cell_type": "code",
   "execution_count": 2,
   "metadata": {},
   "outputs": [
    {
     "ename": "SyntaxError",
     "evalue": "unmatched ']' (1220102214.py, line 9)",
     "output_type": "error",
     "traceback": [
      "\u001b[0;36m  Cell \u001b[0;32mIn[2], line 9\u001b[0;36m\u001b[0m\n\u001b[0;31m    pretrain_data = Subset(train_loader.dataset, range(100, 1000).tolist())])\u001b[0m\n\u001b[0m                                                                           ^\u001b[0m\n\u001b[0;31mSyntaxError\u001b[0m\u001b[0;31m:\u001b[0m unmatched ']'\n"
     ]
    }
   ],
   "source": [
    "from torch.utils.data import Subset, DataLoader\n",
    "from examples.gia.cifar10_reconstruction.utils.model_preparation import ResNet, train_model\n",
    "from examples.gia.cifar10_reconstruction.utils.data_preparation import CifarDataset\n",
    "\n",
    "# Load the dataset\n",
    "dataobject = CifarDataset()\n",
    "train_loader, test_loader = dataobject.get_train_val_loaders()\n",
    "\n",
    "pretrain_data = Subset(train_loader.dataset, range(100, 1000).tolist())\n",
    "# Load the model\n",
    "target_model = ResNet(num_classes=10)\n",
    "\n",
    "# Train the global model on all training data\n",
    "train_model(target_model,\n",
    "            train_loader, \n",
    "            test_loader, \n",
    "            epochs=1, \n",
    "            save_model = True, \n",
    "            model_name = \"global_model\", \n",
    "            save_metadata = False)\n",
    "\n",
    "# Train the local model on a subset (4 images) of the training data\n",
    "local_indices = range(0,100).tolist()\n",
    "local_data = Subset(train_loader.dataset, local_indices)\n",
    "local_train_loader = DataLoader(local_data, batch_size=4, shuffle=True)\n",
    "\n",
    "train_model(target_model, \n",
    "            local_train_loader, \n",
    "            test_loader, \n",
    "            epochs=1, \n",
    "            save_model = True, \n",
    "            model_name = \"local_model\", \n",
    "            save_metadata = True)\n"
   ]
  },
  {
   "cell_type": "code",
   "execution_count": null,
   "metadata": {},
   "outputs": [],
   "source": [
    "from input_handler import Cifar10GIAInputHandler\n",
    "\n",
    "from leakpro import LeakPro\n",
    "\n",
    "# Read the config file\n",
    "config_path = \"audit.yaml\"\n",
    "\n",
    "# Prepare leakpro object\n",
    "leakpro = LeakPro(Cifar10GIAInputHandler, config_path)\n",
    "\n",
    "# Run the audit \n",
    "leakpro.run_audit()"
   ]
  }
 ],
 "metadata": {
  "kernelspec": {
   "display_name": "leakpro_test",
   "language": "python",
   "name": "python3"
  },
  "language_info": {
   "codemirror_mode": {
    "name": "ipython",
    "version": 3
   },
   "file_extension": ".py",
   "mimetype": "text/x-python",
   "name": "python",
   "nbconvert_exporter": "python",
   "pygments_lexer": "ipython3",
   "version": "3.12.5"
  }
 },
 "nbformat": 4,
 "nbformat_minor": 2
}
