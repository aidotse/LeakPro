{
 "cells": [
  {
   "cell_type": "markdown",
   "metadata": {},
   "source": [
    "# MIA attacks on Length-of-Stay predictor, Gated Recurrent Unit with Decay (GRU-D)\n",
    "## Installation of Packages in Conda\n",
    "\n",
    "To install the required packages in your conda environment, you can use the following commands:\n",
    "\n",
    "```bash\n",
    "conda install h5py\n",
    "conda install pytables"
   ]
  },
  {
   "cell_type": "code",
   "execution_count": 1,
   "metadata": {},
   "outputs": [],
   "source": [
    "%reload_ext autoreload\n",
    "%autoreload 2"
   ]
  },
  {
   "cell_type": "code",
   "execution_count": 2,
   "metadata": {},
   "outputs": [],
   "source": [
    "from torch import zeros\n",
    "\n",
    "import os\n",
    "import sys\n",
    "\n",
    "project_root = os.path.abspath(os.path.join(os.getcwd(), \"../../..\"))\n",
    "sys.path.append(project_root)\n",
    "\n",
    "from utils.data_processing import get_mimic_dataset, get_mimic_dataloaders"
   ]
  },
  {
   "cell_type": "code",
   "execution_count": 3,
   "metadata": {},
   "outputs": [
    {
     "name": "stderr",
     "output_type": "stream",
     "text": [
      "/home/fazeleh/LeakPro/examples/mia/LOS/utils/data_processing.py:205: FutureWarning: DataFrameGroupBy.fillna is deprecated and will be removed in a future version. Use obj.ffill() or obj.bfill() for forward or backward filling instead. If you want to fill with a single value, use DataFrame.fillna instead\n",
      "  df_out.loc[:,idx[:,'mean']] = df_out.loc[:,idx[:,'mean']].groupby(ID_COLS).fillna(\n",
      "/home/fazeleh/LeakPro/examples/mia/LOS/utils/data_processing.py:205: FutureWarning: DataFrame.fillna with 'method' is deprecated and will raise in a future version. Use obj.ffill() or obj.bfill() instead.\n",
      "  df_out.loc[:,idx[:,'mean']] = df_out.loc[:,idx[:,'mean']].groupby(ID_COLS).fillna(\n",
      "/home/fazeleh/LeakPro/examples/mia/LOS/utils/data_processing.py:207: FutureWarning: DataFrameGroupBy.fillna is deprecated and will be removed in a future version. Use obj.ffill() or obj.bfill() for forward or backward filling instead. If you want to fill with a single value, use DataFrame.fillna instead\n",
      "  ).groupby(ID_COLS).fillna(icustay_means).fillna(0)\n",
      "/home/fazeleh/LeakPro/examples/mia/LOS/utils/data_processing.py:210: SettingWithCopyWarning: \n",
      "A value is trying to be set on a copy of a slice from a DataFrame\n",
      "\n",
      "See the caveats in the documentation: https://pandas.pydata.org/pandas-docs/stable/user_guide/indexing.html#returning-a-view-versus-a-copy\n",
      "  df_out.rename(columns={'count': 'mask'}, level='Aggregation Function', inplace=True)\n",
      "/home/fazeleh/LeakPro/examples/mia/LOS/utils/data_processing.py:214: FutureWarning: DataFrame.fillna with 'method' is deprecated and will raise in a future version. Use obj.ffill() or obj.bfill() instead.\n",
      "  time_since_measured = hours_of_absence - hours_of_absence[is_absent==0].fillna(method='ffill')\n",
      "/home/fazeleh/LeakPro/examples/mia/LOS/utils/data_processing.py:205: FutureWarning: DataFrameGroupBy.fillna is deprecated and will be removed in a future version. Use obj.ffill() or obj.bfill() for forward or backward filling instead. If you want to fill with a single value, use DataFrame.fillna instead\n",
      "  df_out.loc[:,idx[:,'mean']] = df_out.loc[:,idx[:,'mean']].groupby(ID_COLS).fillna(\n",
      "/home/fazeleh/LeakPro/examples/mia/LOS/utils/data_processing.py:205: FutureWarning: DataFrame.fillna with 'method' is deprecated and will raise in a future version. Use obj.ffill() or obj.bfill() instead.\n",
      "  df_out.loc[:,idx[:,'mean']] = df_out.loc[:,idx[:,'mean']].groupby(ID_COLS).fillna(\n",
      "/home/fazeleh/LeakPro/examples/mia/LOS/utils/data_processing.py:207: FutureWarning: DataFrameGroupBy.fillna is deprecated and will be removed in a future version. Use obj.ffill() or obj.bfill() for forward or backward filling instead. If you want to fill with a single value, use DataFrame.fillna instead\n",
      "  ).groupby(ID_COLS).fillna(icustay_means).fillna(0)\n",
      "/home/fazeleh/LeakPro/examples/mia/LOS/utils/data_processing.py:210: SettingWithCopyWarning: \n",
      "A value is trying to be set on a copy of a slice from a DataFrame\n",
      "\n",
      "See the caveats in the documentation: https://pandas.pydata.org/pandas-docs/stable/user_guide/indexing.html#returning-a-view-versus-a-copy\n",
      "  df_out.rename(columns={'count': 'mask'}, level='Aggregation Function', inplace=True)\n",
      "/home/fazeleh/LeakPro/examples/mia/LOS/utils/data_processing.py:214: FutureWarning: DataFrame.fillna with 'method' is deprecated and will raise in a future version. Use obj.ffill() or obj.bfill() instead.\n",
      "  time_since_measured = hours_of_absence - hours_of_absence[is_absent==0].fillna(method='ffill')\n"
     ]
    },
    {
     "name": "stdout",
     "output_type": "stream",
     "text": [
      "Saved dataset to /home/fazeleh/LeakPro/examples/mia/LOS/data/unflattened/dataset.pkl\n",
      "Saved train and test indices to /home/fazeleh/LeakPro/examples/mia/LOS/data/unflattened/indices.pkl\n"
     ]
    }
   ],
   "source": [
    "# Generate the dataset and dataloaders\n",
    "path = os.path.join(os.getcwd(), \"data/\")\n",
    "\n",
    "train_frac = 0.4\n",
    "valid_frac = 0.0\n",
    "test_frac = 0.0\n",
    "early_stop_frac = 0.4\n",
    "batch_size = 59\n",
    "flatten = False # If LR, flatten the data\n",
    "\n",
    "dataset, train_indices, validation_indices, test_indices, early_stop_indices= get_mimic_dataset(path,\n",
    "                                                                            train_frac , \n",
    "                                                                            valid_frac,\n",
    "                                                                            test_frac,\n",
    "                                                                            early_stop_frac,\n",
    "                                                                            flatten)"
   ]
  },
  {
   "cell_type": "code",
   "execution_count": 4,
   "metadata": {},
   "outputs": [],
   "source": [
    "train_loader, validation_loader, test_loader, early_stop_loader = get_mimic_dataloaders(dataset,\n",
    "                                                            train_indices, \n",
    "                                                            validation_indices, \n",
    "                                                            test_indices,\n",
    "                                                            early_stop_indices,\n",
    "                                                            batch_size)"
   ]
  },
  {
   "cell_type": "markdown",
   "metadata": {},
   "source": [
    "The best parameter is set based on "
   ]
  },
  {
   "cell_type": "code",
   "execution_count": 5,
   "metadata": {},
   "outputs": [],
   "source": [
    "best_hyperparams ={\n",
    "    'cell_size': 58,\n",
    "    'hidden_size': 40, \n",
    "    'learning_rate': 0.004738759319792616,\n",
    "    'num_epochs':37,\n",
    "    'patience': 5,\n",
    "    'batch_size': 59,\n",
    "    'seed': 4410,\n",
    "    'min_delta': 0.0001,\n",
    "    }\n",
    "n_features = int(dataset.x.shape[1]/3)\n",
    "X_mean = zeros(1,dataset.x.shape[2],n_features)\n",
    "\n",
    "model_params = {k: best_hyperparams[k] for k in ['cell_size', 'hidden_size', 'batch_size']}\n",
    "\n",
    "# Add other required parameters to model_params\n",
    "model_params.update({\n",
    "    'input_size': n_features,\n",
    "    'X_mean': X_mean,\n",
    "    'output_last': False\n",
    "})"
   ]
  },
  {
   "cell_type": "code",
   "execution_count": 6,
   "metadata": {},
   "outputs": [
    {
     "name": "stdout",
     "output_type": "stream",
     "text": [
      "Model Structure:  GRUD(\n",
      "  (zl): Linear(in_features=248, out_features=40, bias=True)\n",
      "  (rl): Linear(in_features=248, out_features=40, bias=True)\n",
      "  (hl): Linear(in_features=248, out_features=40, bias=True)\n",
      "  (gamma_x_l): FilterLinear(in_features=104, out_features=104, bias=True)\n",
      "  (gamma_h_l): Linear(in_features=104, out_features=40, bias=True)\n",
      "  (fc): Linear(in_features=40, out_features=2, bias=True)\n",
      "  (bn): BatchNorm1d(2, eps=1e-05, momentum=0.1, affine=True, track_running_stats=True)\n",
      "  (drop): Dropout(p=0.5, inplace=False)\n",
      ")\n",
      "Start Training ... \n",
      "Output type dermined by the model\n"
     ]
    },
    {
     "name": "stderr",
     "output_type": "stream",
     "text": [
      "Training Batches: 100%|██████████| 163/163 [00:06<00:00, 23.86it/s]\n",
      "Training Progress:   3%|▎         | 1/37 [00:06<04:06,  6.85s/it]"
     ]
    },
    {
     "name": "stdout",
     "output_type": "stream",
     "text": [
      "Epoch 0: Validation loss improved to 0.5862\n",
      "Epoch: 0, train_loss: 0.72232474, valid_loss: 0.58623809, time: 6.86\n"
     ]
    },
    {
     "name": "stderr",
     "output_type": "stream",
     "text": [
      "Training Batches: 100%|██████████| 163/163 [00:05<00:00, 27.98it/s]\n",
      "Training Progress:   5%|▌         | 2/37 [00:12<03:39,  6.26s/it]"
     ]
    },
    {
     "name": "stdout",
     "output_type": "stream",
     "text": [
      "Epoch 1: Validation loss improved to 0.5809\n",
      "Epoch: 1, train_loss: 0.62801906, valid_loss: 0.58086139, time: 5.85\n"
     ]
    },
    {
     "name": "stderr",
     "output_type": "stream",
     "text": [
      "Training Batches: 100%|██████████| 163/163 [00:05<00:00, 27.83it/s]\n",
      "Training Progress:   8%|▊         | 3/37 [00:18<03:26,  6.09s/it]"
     ]
    },
    {
     "name": "stdout",
     "output_type": "stream",
     "text": [
      "Epoch 2: Validation loss improved to 0.5585\n",
      "Epoch: 2, train_loss: 0.6137067, valid_loss: 0.55853242, time: 5.88\n"
     ]
    },
    {
     "name": "stderr",
     "output_type": "stream",
     "text": [
      "Training Batches: 100%|██████████| 163/163 [00:05<00:00, 27.84it/s]\n",
      "Training Progress:  11%|█         | 4/37 [00:24<03:18,  6.00s/it]"
     ]
    },
    {
     "name": "stdout",
     "output_type": "stream",
     "text": [
      "Epoch 3: No improvement. Patience counter: 1/5\n",
      "Epoch: 3, train_loss: 0.60565487, valid_loss: 0.56130606, time: 5.88\n"
     ]
    },
    {
     "name": "stderr",
     "output_type": "stream",
     "text": [
      "Training Batches: 100%|██████████| 163/163 [00:05<00:00, 27.80it/s]\n",
      "Training Progress:  14%|█▎        | 5/37 [00:30<03:10,  5.96s/it]"
     ]
    },
    {
     "name": "stdout",
     "output_type": "stream",
     "text": [
      "Epoch 4: No improvement. Patience counter: 2/5\n",
      "Epoch: 4, train_loss: 0.58623467, valid_loss: 0.60618716, time: 5.89\n"
     ]
    },
    {
     "name": "stderr",
     "output_type": "stream",
     "text": [
      "Training Batches: 100%|██████████| 163/163 [00:05<00:00, 27.82it/s]\n",
      "Training Progress:  16%|█▌        | 6/37 [00:36<03:03,  5.93s/it]"
     ]
    },
    {
     "name": "stdout",
     "output_type": "stream",
     "text": [
      "Epoch 5: No improvement. Patience counter: 3/5\n",
      "Epoch: 5, train_loss: 0.56606253, valid_loss: 0.56500095, time: 5.88\n"
     ]
    },
    {
     "name": "stderr",
     "output_type": "stream",
     "text": [
      "Training Batches: 100%|██████████| 163/163 [00:05<00:00, 27.63it/s]\n",
      "Training Progress:  19%|█▉        | 7/37 [00:42<02:57,  5.93s/it]"
     ]
    },
    {
     "name": "stdout",
     "output_type": "stream",
     "text": [
      "Epoch 6: No improvement. Patience counter: 4/5\n",
      "Epoch: 6, train_loss: 0.54967472, valid_loss: 0.61035186, time: 5.92\n"
     ]
    },
    {
     "name": "stderr",
     "output_type": "stream",
     "text": [
      "Training Batches: 100%|██████████| 163/163 [00:05<00:00, 27.77it/s]\n",
      "Training Progress:  19%|█▉        | 7/37 [00:48<03:25,  6.86s/it]"
     ]
    },
    {
     "name": "stdout",
     "output_type": "stream",
     "text": [
      "Epoch 7: No improvement. Patience counter: 5/5\n",
      "Early stopping at epoch 7. Best validation loss: 0.5585\n"
     ]
    },
    {
     "name": "stderr",
     "output_type": "stream",
     "text": [
      "\n"
     ]
    }
   ],
   "source": [
    "from tqdm import tqdm\n",
    "from utils.model_grud import *\n",
    "\n",
    "# Initialize the model with filtered parameters\n",
    "model = GRUD(**model_params)\n",
    "\n",
    "# Train the model with Train_Model function\n",
    "train_losses, test_losses , train_acc, test_acc = gru_trained_model_and_metadata(\n",
    "            model, train_loader, early_stop_loader,\n",
    "            epochs=best_hyperparams['num_epochs'], \n",
    "            patience=best_hyperparams['patience'], \n",
    "            min_delta = best_hyperparams['min_delta'],\n",
    "            learning_rate=best_hyperparams['learning_rate'], \n",
    "            batch_size=best_hyperparams['batch_size'],  # This might be used in your dataloaders, not directly in Train_Model\n",
    "             metadata = None)"
   ]
  },
  {
   "cell_type": "code",
   "execution_count": 7,
   "metadata": {},
   "outputs": [
    {
     "data": {
      "image/png": "[encoded data removed]",
      "text/plain": [
       "<Figure size 500x400 with 2 Axes>"
      ]
     },
     "metadata": {},
     "output_type": "display_data"
    }
   ],
   "source": [
    "import matplotlib.pyplot as plt\n",
    "\n",
    "# Convert losses to numpy-compatible lists directly\n",
    "train_losses_cpu = [float(loss) for loss in train_losses]\n",
    "test_losses_cpu = [float(loss) for loss in test_losses]\n",
    "\n",
    "# Plot training and test accuracy\n",
    "plt.figure(figsize=(5, 4))\n",
    "\n",
    "plt.subplot(1, 2, 1)\n",
    "plt.plot(train_acc, label='Train Accuracy')\n",
    "plt.plot(test_acc, label='Test Accuracy')\n",
    "plt.xlabel('Epoch')\n",
    "plt.ylabel('Accuracy')\n",
    "plt.title('Accuracy over Epochs')\n",
    "plt.legend()\n",
    "\n",
    "# Plot training and test loss\n",
    "plt.subplot(1, 2, 2)\n",
    "plt.plot(train_losses, label='Train Loss')\n",
    "plt.plot(test_losses, label='Test Loss')\n",
    "plt.xlabel('Epoch')\n",
    "plt.ylabel('Loss')\n",
    "plt.title('Loss over Epochs')\n",
    "plt.legend()\n",
    "\n",
    "plt.tight_layout()\n",
    "plt.show()"
   ]
  },
  {
   "cell_type": "markdown",
   "metadata": {},
   "source": [
    "##  Attacking the GRUD model\n",
    "Modify ```audit.yaml ``` file to attack GRUD model: \n",
    "  \n",
    "  ```\n",
    "  module_path: \"utils/grud.py\" \n",
    "  model_class: \"GRUD\"\n",
    "  target_folder: \"./target_GRUD\"\n",
    "  data_path: \"./data/unflattened/dataset.pkl\"\n",
    "  ```"
   ]
  },
  {
   "cell_type": "code",
   "execution_count": 8,
   "metadata": {},
   "outputs": [
    {
     "name": "stderr",
     "output_type": "stream",
     "text": [
      "2024-12-17 13:02:29,285 INFO     Target model blueprint created from GRUD in utils/grud.py.\n",
      "2024-12-17 13:02:29,293 INFO     Loaded target model metadata from ./target_GRUD/model_metadata.pkl\n",
      "2024-12-17 13:02:29,297 INFO     Loaded target model from ./target_GRUD\n",
      "2024-12-17 13:02:30,508 INFO     Loaded population dataset from ./data/unflattened/dataset.pkl\n",
      "2024-12-17 13:02:30,510 INFO     Loaded population dataset from ./data/unflattened/dataset.pkl\n",
      "2024-12-17 13:02:30,510 INFO     Creating shadow model handler singleton\n",
      "2024-12-17 13:02:30,516 INFO     Created folder ./leakpro_output/attack_objects/shadow_model\n",
      "2024-12-17 13:02:30,517 INFO     Creating distillation model handler singleton\n",
      "2024-12-17 13:02:30,521 INFO     Created folder ./leakpro_output/attack_objects/distillation_model\n",
      "2024-12-17 13:02:30,524 INFO     Configuring RMIA attack\n",
      "2024-12-17 13:02:30,525 INFO     Added attack: rmia\n",
      "2024-12-17 13:02:30,525 INFO     Added attack: lira\n",
      "2024-12-17 13:02:30,526 INFO     Preparing attack: rmia\n",
      "2024-12-17 13:02:30,526 INFO     Preparing shadow models for RMIA attack\n",
      "2024-12-17 13:02:30,526 INFO     Preparing attack data for training the RMIA attack\n",
      "2024-12-17 13:02:30,528 INFO     Check for 8 shadow models (dataset: 23944 points)\n",
      "2024-12-17 13:02:30,587 INFO     Training shadow model 0 on 11977 points\n",
      "Training Batches: 100%|██████████| 203/203 [00:08<00:00, 24.32it/s]\n",
      "Training Batches: 100%|██████████| 203/203 [00:08<00:00, 24.50it/s]\n",
      "Training Batches: 100%|██████████| 203/203 [00:08<00:00, 24.41it/s]\n",
      "Training Batches: 100%|██████████| 203/203 [00:08<00:00, 24.30it/s]\n",
      "Training Batches: 100%|██████████| 203/203 [00:08<00:00, 24.31it/s]\n",
      "Training Batches: 100%|██████████| 203/203 [00:08<00:00, 24.32it/s]\n",
      "Training Batches: 100%|██████████| 203/203 [00:08<00:00, 24.34it/s]\n",
      "Training Batches: 100%|██████████| 203/203 [00:08<00:00, 24.33it/s]\n",
      "Training Batches: 100%|██████████| 203/203 [00:08<00:00, 24.48it/s]\n",
      "Training Batches: 100%|██████████| 203/203 [00:07<00:00, 27.73it/s]\n",
      "Training Batches: 100%|██████████| 203/203 [00:07<00:00, 28.02it/s]\n",
      "Training Batches: 100%|██████████| 203/203 [00:07<00:00, 28.00it/s]\n",
      "Training Batches: 100%|██████████| 203/203 [00:07<00:00, 28.01it/s]\n",
      "Training Batches: 100%|██████████| 203/203 [00:07<00:00, 28.00it/s]\n",
      "Training Batches: 100%|██████████| 203/203 [00:07<00:00, 28.05it/s]\n",
      "Training Batches: 100%|██████████| 203/203 [00:07<00:00, 28.02it/s]\n",
      "Training Batches: 100%|██████████| 203/203 [00:07<00:00, 28.54it/s]\n",
      "Training Batches: 100%|██████████| 203/203 [00:07<00:00, 28.09it/s]\n",
      "Training Batches: 100%|██████████| 203/203 [00:07<00:00, 28.22it/s]\n",
      "Training Batches: 100%|██████████| 203/203 [00:07<00:00, 28.19it/s]\n",
      "Training Batches: 100%|██████████| 203/203 [00:07<00:00, 28.08it/s]\n",
      "Training Batches: 100%|██████████| 203/203 [00:07<00:00, 28.00it/s]\n",
      "Training Batches: 100%|██████████| 203/203 [00:07<00:00, 27.33it/s]\n",
      "Training Batches: 100%|██████████| 203/203 [00:08<00:00, 24.61it/s]\n",
      "Training Batches: 100%|██████████| 203/203 [00:08<00:00, 24.65it/s]\n",
      "Training Batches: 100%|██████████| 203/203 [00:08<00:00, 24.53it/s]\n",
      "Training Batches: 100%|██████████| 203/203 [00:08<00:00, 24.56it/s]\n",
      "Training Batches: 100%|██████████| 203/203 [00:08<00:00, 24.91it/s]\n",
      "Training Batches: 100%|██████████| 203/203 [00:08<00:00, 24.78it/s]\n",
      "Training Batches: 100%|██████████| 203/203 [00:07<00:00, 26.04it/s]\n",
      "Training Batches: 100%|██████████| 203/203 [00:07<00:00, 28.54it/s]\n",
      "Training Batches: 100%|██████████| 203/203 [00:07<00:00, 28.58it/s]\n",
      "Training Batches: 100%|██████████| 203/203 [00:07<00:00, 28.54it/s]\n",
      "Training Batches: 100%|██████████| 203/203 [00:07<00:00, 28.45it/s]\n",
      "Training Batches: 100%|██████████| 203/203 [00:07<00:00, 27.80it/s]\n",
      "Training Batches: 100%|██████████| 203/203 [00:07<00:00, 28.38it/s]\n",
      "Training Batches: 100%|██████████| 203/203 [00:07<00:00, 28.13it/s]\n",
      "Training Progress: 100%|██████████| 37/37 [04:43<00:00,  7.67s/it]\n",
      "2024-12-17 13:07:14,399 INFO     Training shadow model 0 complete\n",
      "2024-12-17 13:07:14,401 INFO     Saved shadow model 0 to ./leakpro_output/attack_objects/shadow_model\n",
      "2024-12-17 13:07:14,401 INFO     Storing metadata for shadow model 0\n",
      "2024-12-17 13:07:14,402 INFO     Metadata for shadow model 0 stored in ./leakpro_output/attack_objects/shadow_model\n",
      "2024-12-17 13:07:14,479 INFO     Training shadow model 1 on 11977 points\n",
      "Training Batches: 100%|██████████| 203/203 [00:08<00:00, 24.63it/s]\n",
      "Training Batches: 100%|██████████| 203/203 [00:08<00:00, 24.48it/s]\n",
      "Training Batches: 100%|██████████| 203/203 [00:08<00:00, 24.70it/s]\n",
      "Training Batches: 100%|██████████| 203/203 [00:08<00:00, 24.92it/s]\n",
      "Training Batches: 100%|██████████| 203/203 [00:08<00:00, 24.80it/s]\n",
      "Training Batches: 100%|██████████| 203/203 [00:08<00:00, 24.81it/s]\n",
      "Training Batches: 100%|██████████| 203/203 [00:08<00:00, 24.78it/s]\n",
      "Training Batches: 100%|██████████| 203/203 [00:08<00:00, 24.85it/s]\n",
      "Training Batches: 100%|██████████| 203/203 [00:08<00:00, 24.74it/s]\n",
      "Training Batches: 100%|██████████| 203/203 [00:08<00:00, 24.59it/s]\n",
      "Training Batches: 100%|██████████| 203/203 [00:08<00:00, 24.46it/s]\n",
      "Training Batches: 100%|██████████| 203/203 [00:08<00:00, 24.51it/s]\n",
      "Training Batches: 100%|██████████| 203/203 [00:08<00:00, 24.47it/s]\n",
      "Training Batches: 100%|██████████| 203/203 [00:08<00:00, 24.49it/s]\n",
      "Training Batches: 100%|██████████| 203/203 [00:08<00:00, 24.49it/s]\n",
      "Training Batches: 100%|██████████| 203/203 [00:08<00:00, 24.45it/s]\n",
      "Training Batches: 100%|██████████| 203/203 [00:08<00:00, 24.46it/s]\n",
      "Training Batches: 100%|██████████| 203/203 [00:08<00:00, 24.49it/s]\n",
      "Training Batches: 100%|██████████| 203/203 [00:08<00:00, 24.47it/s]\n",
      "Training Batches: 100%|██████████| 203/203 [00:08<00:00, 24.46it/s]\n",
      "Training Batches: 100%|██████████| 203/203 [00:08<00:00, 24.58it/s]\n",
      "Training Batches: 100%|██████████| 203/203 [00:08<00:00, 24.61it/s]\n",
      "Training Batches: 100%|██████████| 203/203 [00:08<00:00, 24.67it/s]\n",
      "Training Batches: 100%|██████████| 203/203 [00:08<00:00, 24.61it/s]\n",
      "Training Batches: 100%|██████████| 203/203 [00:08<00:00, 24.64it/s]\n",
      "Training Batches: 100%|██████████| 203/203 [00:08<00:00, 24.73it/s]\n",
      "Training Batches: 100%|██████████| 203/203 [00:08<00:00, 24.64it/s]\n",
      "Training Batches: 100%|██████████| 203/203 [00:08<00:00, 24.65it/s]\n",
      "Training Batches: 100%|██████████| 203/203 [00:08<00:00, 24.49it/s]\n",
      "Training Batches: 100%|██████████| 203/203 [00:08<00:00, 24.26it/s]\n",
      "Training Batches: 100%|██████████| 203/203 [00:08<00:00, 24.35it/s]\n",
      "Training Batches: 100%|██████████| 203/203 [00:08<00:00, 24.33it/s]\n",
      "Training Batches: 100%|██████████| 203/203 [00:07<00:00, 25.62it/s]\n",
      "Training Batches: 100%|██████████| 203/203 [00:07<00:00, 25.42it/s]\n",
      "Training Batches: 100%|██████████| 203/203 [00:08<00:00, 25.28it/s]\n",
      "Training Batches: 100%|██████████| 203/203 [00:08<00:00, 25.29it/s]\n",
      "Training Batches: 100%|██████████| 203/203 [00:08<00:00, 24.48it/s]\n",
      "Training Progress: 100%|██████████| 37/37 [05:04<00:00,  8.23s/it]\n",
      "2024-12-17 13:12:19,137 INFO     Training shadow model 1 complete\n",
      "2024-12-17 13:12:19,139 INFO     Saved shadow model 1 to ./leakpro_output/attack_objects/shadow_model\n",
      "2024-12-17 13:12:19,140 INFO     Storing metadata for shadow model 1\n",
      "2024-12-17 13:12:19,141 INFO     Metadata for shadow model 1 stored in ./leakpro_output/attack_objects/shadow_model\n",
      "2024-12-17 13:12:19,205 INFO     Training shadow model 2 on 11977 points\n",
      "Training Batches: 100%|██████████| 203/203 [00:08<00:00, 24.39it/s]\n",
      "Training Batches: 100%|██████████| 203/203 [00:08<00:00, 24.52it/s]\n",
      "Training Batches: 100%|██████████| 203/203 [00:08<00:00, 24.86it/s]\n",
      "Training Batches: 100%|██████████| 203/203 [00:08<00:00, 24.43it/s]\n",
      "Training Batches: 100%|██████████| 203/203 [00:08<00:00, 24.36it/s]\n",
      "Training Batches: 100%|██████████| 203/203 [00:08<00:00, 24.36it/s]\n",
      "Training Batches: 100%|██████████| 203/203 [00:08<00:00, 25.07it/s]\n",
      "Training Batches: 100%|██████████| 203/203 [00:07<00:00, 26.30it/s]\n",
      "Training Batches: 100%|██████████| 203/203 [00:07<00:00, 28.36it/s]\n",
      "Training Batches: 100%|██████████| 203/203 [00:07<00:00, 26.93it/s]\n",
      "Training Batches: 100%|██████████| 203/203 [00:08<00:00, 25.10it/s]\n",
      "Training Batches: 100%|██████████| 203/203 [00:08<00:00, 24.57it/s]\n",
      "Training Batches: 100%|██████████| 203/203 [00:08<00:00, 24.62it/s]\n",
      "Training Batches: 100%|██████████| 203/203 [00:08<00:00, 24.63it/s]\n",
      "Training Progress:  38%|███▊      | 14/37 [01:53<03:06,  8.11s/it]"
     ]
    }
   ],
   "source": [
    "from mimic_gru_handler import MimicInputHandlerGRU\n",
    "\n",
    "from leakpro import LeakPro\n",
    "\n",
    "# Read the config file\n",
    "config_path = \"audit.yaml\"\n",
    "\n",
    "# Prepare leakpro object\n",
    "leakpro = LeakPro(MimicInputHandlerGRU, config_path)\n",
    "\n",
    "# Run the audit \n",
    "leakpro.run_audit(return_results=True)"
   ]
  },
  {
   "cell_type": "markdown",
   "metadata": {},
   "source": [
    "## Report Genrating"
   ]
  },
  {
   "cell_type": "code",
   "execution_count": null,
   "metadata": {},
   "outputs": [],
   "source": [
    "\n",
    "# Import and initialize ReportHandler\n",
    "from leakpro.reporting.report_handler import ReportHandler\n",
    "from leakpro.synthetic_data_attacks.inference_utils import inference_risk_evaluation\n",
    "\n",
    "\n",
    "# report_handler = ReportHandler()\n",
    "report_handler = ReportHandler(report_dir=\"./leakpro_output/results\")\n",
    "\n",
    "# Save MIA resuls using report handler\n",
    "for res in mia_results:\n",
    "    report_handler.save_results(attack_name=res.attack_name, result_data=res, config=res.configs)"
   ]
  },
  {
   "cell_type": "code",
   "execution_count": null,
   "metadata": {},
   "outputs": [],
   "source": []
  }
 ],
 "metadata": {
  "kernelspec": {
   "display_name": "leakpro_test",
   "language": "python",
   "name": "python3"
  },
  "language_info": {
   "codemirror_mode": {
    "name": "ipython",
    "version": 3
   },
   "file_extension": ".py",
   "mimetype": "text/x-python",
   "name": "python",
   "nbconvert_exporter": "python",
   "pygments_lexer": "ipython3",
   "version": "3.12.2"
  }
 },
 "nbformat": 4,
 "nbformat_minor": 2
}
