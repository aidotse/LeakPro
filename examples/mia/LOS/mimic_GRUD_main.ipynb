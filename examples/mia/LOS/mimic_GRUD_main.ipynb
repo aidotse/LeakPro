{
 "cells": [
  {
   "cell_type": "markdown",
   "metadata": {},
   "source": [
    "# MIA attacks on Length-of-Stay predictor, Gated Recurrent Unit with Decay (GRU-D)\n",
    "## Installation of Packages in Conda\n",
    "\n",
    "To install the required packages in your conda environment, you can use the following commands:\n",
    "\n",
    "```bash\n",
    "conda install h5py\n",
    "conda install pytables"
   ]
  },
  {
   "cell_type": "code",
   "execution_count": 1,
   "metadata": {},
   "outputs": [],
   "source": [
    "%reload_ext autoreload\n",
    "%autoreload 2"
   ]
  },
  {
   "cell_type": "code",
   "execution_count": 2,
   "metadata": {},
   "outputs": [],
   "source": [
    "import os\n",
    "import sys\n",
    "\n",
    "from torch import zeros\n",
    "\n",
    "project_root = os.path.abspath(os.path.join(os.getcwd(), \"../../..\"))\n",
    "sys.path.append(project_root)\n",
    "\n",
    "from utils.data_processing import get_mimic_dataloaders, get_mimic_dataset"
   ]
  },
  {
   "cell_type": "code",
   "execution_count": 3,
   "metadata": {},
   "outputs": [
    {
     "name": "stderr",
     "output_type": "stream",
     "text": [
      "/home/fazeleh/LeakPro/examples/mia/LOS/utils/data_processing.py:195: FutureWarning: DataFrameGroupBy.fillna is deprecated and will be removed in a future version. Use obj.ffill() or obj.bfill() for forward or backward filling instead. If you want to fill with a single value, use DataFrame.fillna instead\n",
      "  df_out.loc[:,idx[:,\"mean\"]] = df_out.loc[:,idx[:,\"mean\"]].groupby(ID_COLS).fillna(\n",
      "/home/fazeleh/LeakPro/examples/mia/LOS/utils/data_processing.py:195: FutureWarning: DataFrame.fillna with 'method' is deprecated and will raise in a future version. Use obj.ffill() or obj.bfill() instead.\n",
      "  df_out.loc[:,idx[:,\"mean\"]] = df_out.loc[:,idx[:,\"mean\"]].groupby(ID_COLS).fillna(\n",
      "/home/fazeleh/LeakPro/examples/mia/LOS/utils/data_processing.py:197: FutureWarning: DataFrameGroupBy.fillna is deprecated and will be removed in a future version. Use obj.ffill() or obj.bfill() for forward or backward filling instead. If you want to fill with a single value, use DataFrame.fillna instead\n",
      "  ).groupby(ID_COLS).fillna(icustay_means).fillna(0)\n",
      "/home/fazeleh/LeakPro/examples/mia/LOS/utils/data_processing.py:200: SettingWithCopyWarning: \n",
      "A value is trying to be set on a copy of a slice from a DataFrame\n",
      "\n",
      "See the caveats in the documentation: https://pandas.pydata.org/pandas-docs/stable/user_guide/indexing.html#returning-a-view-versus-a-copy\n",
      "  df_out.rename(columns={\"count\": \"mask\"}, level=\"Aggregation Function\", inplace=True)\n",
      "/home/fazeleh/LeakPro/examples/mia/LOS/utils/data_processing.py:204: FutureWarning: DataFrame.fillna with 'method' is deprecated and will raise in a future version. Use obj.ffill() or obj.bfill() instead.\n",
      "  time_since_measured = hours_of_absence - hours_of_absence[is_absent==0].fillna(method=\"ffill\")\n",
      "/home/fazeleh/LeakPro/examples/mia/LOS/utils/data_processing.py:195: FutureWarning: DataFrameGroupBy.fillna is deprecated and will be removed in a future version. Use obj.ffill() or obj.bfill() for forward or backward filling instead. If you want to fill with a single value, use DataFrame.fillna instead\n",
      "  df_out.loc[:,idx[:,\"mean\"]] = df_out.loc[:,idx[:,\"mean\"]].groupby(ID_COLS).fillna(\n",
      "/home/fazeleh/LeakPro/examples/mia/LOS/utils/data_processing.py:195: FutureWarning: DataFrame.fillna with 'method' is deprecated and will raise in a future version. Use obj.ffill() or obj.bfill() instead.\n",
      "  df_out.loc[:,idx[:,\"mean\"]] = df_out.loc[:,idx[:,\"mean\"]].groupby(ID_COLS).fillna(\n",
      "/home/fazeleh/LeakPro/examples/mia/LOS/utils/data_processing.py:197: FutureWarning: DataFrameGroupBy.fillna is deprecated and will be removed in a future version. Use obj.ffill() or obj.bfill() for forward or backward filling instead. If you want to fill with a single value, use DataFrame.fillna instead\n",
      "  ).groupby(ID_COLS).fillna(icustay_means).fillna(0)\n",
      "/home/fazeleh/LeakPro/examples/mia/LOS/utils/data_processing.py:200: SettingWithCopyWarning: \n",
      "A value is trying to be set on a copy of a slice from a DataFrame\n",
      "\n",
      "See the caveats in the documentation: https://pandas.pydata.org/pandas-docs/stable/user_guide/indexing.html#returning-a-view-versus-a-copy\n",
      "  df_out.rename(columns={\"count\": \"mask\"}, level=\"Aggregation Function\", inplace=True)\n",
      "/home/fazeleh/LeakPro/examples/mia/LOS/utils/data_processing.py:204: FutureWarning: DataFrame.fillna with 'method' is deprecated and will raise in a future version. Use obj.ffill() or obj.bfill() instead.\n",
      "  time_since_measured = hours_of_absence - hours_of_absence[is_absent==0].fillna(method=\"ffill\")\n"
     ]
    },
    {
     "name": "stdout",
     "output_type": "stream",
     "text": [
      "Saved dataset to /home/fazeleh/LeakPro/examples/mia/LOS/data/unflattened/dataset.pkl\n",
      "Saved train and test indices to /home/fazeleh/LeakPro/examples/mia/LOS/data/unflattened/indices.pkl\n"
     ]
    }
   ],
   "source": [
    "# Generate the dataset and dataloaders\n",
    "path = os.path.join(os.getcwd(), \"data/\")\n",
    "\n",
    "train_frac = 0.4\n",
    "valid_frac = 0.0\n",
    "test_frac = 0.0\n",
    "early_stop_frac = 0.4\n",
    "batch_size = 59\n",
    "flatten = False # If LR, flatten the data\n",
    "\n",
    "dataset, train_indices, validation_indices, test_indices, early_stop_indices= get_mimic_dataset(path,\n",
    "                                                                            train_frac ,\n",
    "                                                                            valid_frac,\n",
    "                                                                            test_frac,\n",
    "                                                                            early_stop_frac,\n",
    "                                                                            flatten)"
   ]
  },
  {
   "cell_type": "code",
   "execution_count": 4,
   "metadata": {},
   "outputs": [],
   "source": [
    "train_loader, validation_loader, test_loader, early_stop_loader = get_mimic_dataloaders(dataset,\n",
    "                                                            train_indices,\n",
    "                                                            validation_indices,\n",
    "                                                            test_indices,\n",
    "                                                            early_stop_indices,\n",
    "                                                            batch_size)"
   ]
  },
  {
   "cell_type": "markdown",
   "metadata": {},
   "source": [
    "The best parameter is set based on "
   ]
  },
  {
   "cell_type": "code",
   "execution_count": 13,
   "metadata": {},
   "outputs": [],
   "source": [
    "best_hyperparams ={\n",
    "    \"cell_size\": 58,\n",
    "    \"hidden_size\": 78,\n",
    "    \"learning_rate\": 0.0004738759319792616,\n",
    "    \"num_epochs\":37,\n",
    "    \"patience_early_stopping\": 20,\n",
    "    \"patience_lr_scheduler\": 5,\n",
    "    \"batch_size\": 59,\n",
    "    \"seed\": 4410,\n",
    "    \"min_delta\": 0.00001,\n",
    "    }\n",
    "n_features = int(dataset.x.shape[1]/3)\n",
    "X_mean = zeros(1,dataset.x.shape[2],n_features)\n",
    "\n",
    "model_params = {k: best_hyperparams[k] for k in [\"cell_size\", \"hidden_size\", \"batch_size\"]}\n",
    "\n",
    "# Add other required parameters to model_params\n",
    "model_params.update({\n",
    "    \"input_size\": n_features,\n",
    "    \"X_mean\": X_mean,\n",
    "    \"output_last\": False\n",
    "})"
   ]
  },
  {
   "cell_type": "code",
   "execution_count": 14,
   "metadata": {},
   "outputs": [
    {
     "name": "stdout",
     "output_type": "stream",
     "text": [
      "Model Structure:  GRUD(\n",
      "  (zl): Linear(in_features=286, out_features=78, bias=True)\n",
      "  (rl): Linear(in_features=286, out_features=78, bias=True)\n",
      "  (hl): Linear(in_features=286, out_features=78, bias=True)\n",
      "  (gamma_x_l): FilterLinear(in_features=104, out_features=104, bias=True)\n",
      "  (gamma_h_l): Linear(in_features=104, out_features=78, bias=True)\n",
      "  (fc): Linear(in_features=78, out_features=2, bias=True)\n",
      "  (bn): BatchNorm1d(2, eps=1e-05, momentum=0.1, affine=True, track_running_stats=True)\n",
      "  (drop): Dropout(p=0.7, inplace=False)\n",
      ")\n",
      "Start Training ... \n",
      "Output type dermined by the model\n"
     ]
    },
    {
     "name": "stderr",
     "output_type": "stream",
     "text": [
      "Training Progress:   0%|          | 0/37 [00:00<?, ?it/s]"
     ]
    },
    {
     "name": "stderr",
     "output_type": "stream",
     "text": [
      "Training Batches: 100%|██████████| 163/163 [00:06<00:00, 24.98it/s]\n",
      "Training Progress:   3%|▎         | 1/37 [00:06<03:55,  6.55s/it]"
     ]
    },
    {
     "name": "stdout",
     "output_type": "stream",
     "text": [
      "Epoch 0: Validation loss improved to 0.5521\n",
      "Learning Rate: 0.000474\n",
      "Epoch: 0, train_loss: 0.90636154, valid_loss: 0.55211937, time: 6.55\n"
     ]
    },
    {
     "name": "stderr",
     "output_type": "stream",
     "text": [
      "Training Batches: 100%|██████████| 163/163 [00:06<00:00, 24.91it/s]\n",
      "Training Progress:   5%|▌         | 2/37 [00:13<03:49,  6.56s/it]"
     ]
    },
    {
     "name": "stdout",
     "output_type": "stream",
     "text": [
      "Epoch 1: No improvement. Patience counter: 1/20\n",
      "Learning Rate: 0.000474\n",
      "Epoch: 1, train_loss: 0.80136162, valid_loss: 0.56365985, time: 6.57\n"
     ]
    },
    {
     "name": "stderr",
     "output_type": "stream",
     "text": [
      "Training Batches: 100%|██████████| 163/163 [00:06<00:00, 24.67it/s]\n",
      "Training Progress:   8%|▊         | 3/37 [00:19<03:44,  6.60s/it]"
     ]
    },
    {
     "name": "stdout",
     "output_type": "stream",
     "text": [
      "Epoch 2: Validation loss improved to 0.5366\n",
      "Learning Rate: 0.000474\n",
      "Epoch: 2, train_loss: 0.77195436, valid_loss: 0.53658527, time: 6.63\n"
     ]
    },
    {
     "name": "stderr",
     "output_type": "stream",
     "text": [
      "Training Batches: 100%|██████████| 163/163 [00:06<00:00, 24.68it/s]\n",
      "Training Progress:  11%|█         | 4/37 [00:26<03:38,  6.61s/it]"
     ]
    },
    {
     "name": "stdout",
     "output_type": "stream",
     "text": [
      "Epoch 3: No improvement. Patience counter: 1/20\n",
      "Learning Rate: 0.000474\n",
      "Epoch: 3, train_loss: 0.73790004, valid_loss: 0.55228055, time: 6.63\n"
     ]
    },
    {
     "name": "stderr",
     "output_type": "stream",
     "text": [
      "Training Batches: 100%|██████████| 163/163 [00:06<00:00, 24.47it/s]\n",
      "Training Progress:  14%|█▎        | 5/37 [00:33<03:32,  6.64s/it]"
     ]
    },
    {
     "name": "stdout",
     "output_type": "stream",
     "text": [
      "Epoch 4: No improvement. Patience counter: 2/20\n",
      "Learning Rate: 0.000474\n",
      "Epoch: 4, train_loss: 0.71873741, valid_loss: 0.55908412, time: 6.69\n"
     ]
    },
    {
     "name": "stderr",
     "output_type": "stream",
     "text": [
      "Training Batches: 100%|██████████| 163/163 [00:06<00:00, 24.47it/s]\n",
      "Training Progress:  16%|█▌        | 6/37 [00:39<03:26,  6.66s/it]"
     ]
    },
    {
     "name": "stdout",
     "output_type": "stream",
     "text": [
      "Epoch 5: No improvement. Patience counter: 3/20\n",
      "Learning Rate: 0.000474\n",
      "Epoch: 5, train_loss: 0.69222196, valid_loss: 0.55400985, time: 6.69\n"
     ]
    },
    {
     "name": "stderr",
     "output_type": "stream",
     "text": [
      "Training Batches: 100%|██████████| 163/163 [00:06<00:00, 24.43it/s]\n",
      "Training Progress:  19%|█▉        | 7/37 [00:46<03:20,  6.67s/it]"
     ]
    },
    {
     "name": "stdout",
     "output_type": "stream",
     "text": [
      "Epoch 6: No improvement. Patience counter: 4/20\n",
      "Learning Rate: 0.000474\n",
      "Epoch: 6, train_loss: 0.67985916, valid_loss: 0.5957284, time: 6.7\n"
     ]
    },
    {
     "name": "stderr",
     "output_type": "stream",
     "text": [
      "Training Batches: 100%|██████████| 163/163 [00:06<00:00, 26.67it/s]\n",
      "Training Progress:  22%|██▏       | 8/37 [00:52<03:08,  6.50s/it]"
     ]
    },
    {
     "name": "stdout",
     "output_type": "stream",
     "text": [
      "Epoch 7: No improvement. Patience counter: 5/20\n",
      "Learning Rate: 0.000474\n",
      "Epoch: 7, train_loss: 0.66387347, valid_loss: 0.56931973, time: 6.14\n"
     ]
    },
    {
     "name": "stderr",
     "output_type": "stream",
     "text": [
      "Training Batches: 100%|██████████| 163/163 [00:06<00:00, 27.00it/s]\n",
      "Training Progress:  24%|██▍       | 9/37 [00:58<02:58,  6.37s/it]"
     ]
    },
    {
     "name": "stdout",
     "output_type": "stream",
     "text": [
      "Epoch 8: No improvement. Patience counter: 6/20\n",
      "Epoch 00009: reducing learning rate of group 0 to 2.3694e-04.\n",
      "Learning Rate: 0.000237\n",
      "Epoch: 8, train_loss: 0.64136235, valid_loss: 0.55766076, time: 6.07\n"
     ]
    },
    {
     "name": "stderr",
     "output_type": "stream",
     "text": [
      "Training Batches: 100%|██████████| 163/163 [00:06<00:00, 27.13it/s]\n",
      "Training Progress:  27%|██▋       | 10/37 [01:04<02:49,  6.26s/it]"
     ]
    },
    {
     "name": "stdout",
     "output_type": "stream",
     "text": [
      "Epoch 9: No improvement. Patience counter: 7/20\n",
      "Learning Rate: 0.000237\n",
      "Epoch: 9, train_loss: 0.62207052, valid_loss: 0.57464665, time: 6.04\n"
     ]
    },
    {
     "name": "stderr",
     "output_type": "stream",
     "text": [
      "Training Batches: 100%|██████████| 163/163 [00:06<00:00, 24.96it/s]\n",
      "Training Progress:  30%|██▉       | 11/37 [01:11<02:45,  6.35s/it]"
     ]
    },
    {
     "name": "stdout",
     "output_type": "stream",
     "text": [
      "Epoch 10: No improvement. Patience counter: 8/20\n",
      "Learning Rate: 0.000237\n",
      "Epoch: 10, train_loss: 0.60348744, valid_loss: 0.57632536, time: 6.56\n"
     ]
    },
    {
     "name": "stderr",
     "output_type": "stream",
     "text": [
      "Training Batches: 100%|██████████| 163/163 [00:06<00:00, 24.81it/s]\n",
      "Training Progress:  32%|███▏      | 12/37 [01:17<02:40,  6.43s/it]"
     ]
    },
    {
     "name": "stdout",
     "output_type": "stream",
     "text": [
      "Epoch 11: No improvement. Patience counter: 9/20\n",
      "Learning Rate: 0.000237\n",
      "Epoch: 11, train_loss: 0.59231318, valid_loss: 0.57279688, time: 6.6\n"
     ]
    },
    {
     "name": "stderr",
     "output_type": "stream",
     "text": [
      "Training Batches: 100%|██████████| 163/163 [00:06<00:00, 24.53it/s]\n",
      "Training Progress:  35%|███▌      | 13/37 [01:24<02:36,  6.50s/it]"
     ]
    },
    {
     "name": "stdout",
     "output_type": "stream",
     "text": [
      "Epoch 12: No improvement. Patience counter: 10/20\n",
      "Learning Rate: 0.000237\n",
      "Epoch: 12, train_loss: 0.57390324, valid_loss: 0.57594812, time: 6.67\n"
     ]
    },
    {
     "name": "stderr",
     "output_type": "stream",
     "text": [
      "Training Batches: 100%|██████████| 163/163 [00:06<00:00, 24.57it/s]\n",
      "Training Progress:  38%|███▊      | 14/37 [01:31<02:30,  6.55s/it]"
     ]
    },
    {
     "name": "stdout",
     "output_type": "stream",
     "text": [
      "Epoch 13: No improvement. Patience counter: 11/20\n",
      "Learning Rate: 0.000237\n",
      "Epoch: 13, train_loss: 0.56770237, valid_loss: 0.57286054, time: 6.66\n"
     ]
    },
    {
     "name": "stderr",
     "output_type": "stream",
     "text": [
      "Training Batches: 100%|██████████| 163/163 [00:06<00:00, 24.51it/s]\n",
      "Training Progress:  41%|████      | 15/37 [01:37<02:24,  6.59s/it]"
     ]
    },
    {
     "name": "stdout",
     "output_type": "stream",
     "text": [
      "Epoch 14: No improvement. Patience counter: 12/20\n",
      "Epoch 00015: reducing learning rate of group 0 to 1.1847e-04.\n",
      "Learning Rate: 0.000118\n",
      "Epoch: 14, train_loss: 0.56387434, valid_loss: 0.58499092, time: 6.68\n"
     ]
    },
    {
     "name": "stderr",
     "output_type": "stream",
     "text": [
      "Training Batches: 100%|██████████| 163/163 [00:06<00:00, 24.59it/s]\n",
      "Training Progress:  43%|████▎     | 16/37 [01:44<02:18,  6.61s/it]"
     ]
    },
    {
     "name": "stdout",
     "output_type": "stream",
     "text": [
      "Epoch 15: No improvement. Patience counter: 13/20\n",
      "Learning Rate: 0.000118\n",
      "Epoch: 15, train_loss: 0.54714812, valid_loss: 0.60040212, time: 6.66\n"
     ]
    },
    {
     "name": "stderr",
     "output_type": "stream",
     "text": [
      "Training Batches: 100%|██████████| 163/163 [00:06<00:00, 24.55it/s]\n",
      "Training Progress:  46%|████▌     | 17/37 [01:51<02:12,  6.63s/it]"
     ]
    },
    {
     "name": "stdout",
     "output_type": "stream",
     "text": [
      "Epoch 16: No improvement. Patience counter: 14/20\n",
      "Learning Rate: 0.000118\n",
      "Epoch: 16, train_loss: 0.53270563, valid_loss: 0.59080571, time: 6.67\n"
     ]
    },
    {
     "name": "stderr",
     "output_type": "stream",
     "text": [
      "Training Batches: 100%|██████████| 163/163 [00:06<00:00, 24.61it/s]\n",
      "Training Progress:  49%|████▊     | 18/37 [01:57<02:06,  6.64s/it]"
     ]
    },
    {
     "name": "stdout",
     "output_type": "stream",
     "text": [
      "Epoch 17: No improvement. Patience counter: 15/20\n",
      "Learning Rate: 0.000118\n",
      "Epoch: 17, train_loss: 0.5288893, valid_loss: 0.58645028, time: 6.65\n"
     ]
    },
    {
     "name": "stderr",
     "output_type": "stream",
     "text": [
      "Training Batches: 100%|██████████| 163/163 [00:06<00:00, 24.59it/s]\n",
      "Training Progress:  51%|█████▏    | 19/37 [02:04<01:59,  6.64s/it]"
     ]
    },
    {
     "name": "stdout",
     "output_type": "stream",
     "text": [
      "Epoch 18: No improvement. Patience counter: 16/20\n",
      "Learning Rate: 0.000118\n",
      "Epoch: 18, train_loss: 0.52406142, valid_loss: 0.57634282, time: 6.66\n"
     ]
    },
    {
     "name": "stderr",
     "output_type": "stream",
     "text": [
      "Training Batches: 100%|██████████| 163/163 [00:06<00:00, 24.55it/s]\n",
      "Training Progress:  54%|█████▍    | 20/37 [02:11<01:53,  6.65s/it]"
     ]
    },
    {
     "name": "stdout",
     "output_type": "stream",
     "text": [
      "Epoch 19: No improvement. Patience counter: 17/20\n",
      "Learning Rate: 0.000118\n",
      "Epoch: 19, train_loss: 0.52052495, valid_loss: 0.56443512, time: 6.67\n"
     ]
    },
    {
     "name": "stderr",
     "output_type": "stream",
     "text": [
      "Training Batches: 100%|██████████| 163/163 [00:06<00:00, 24.64it/s]\n",
      "Training Progress:  57%|█████▋    | 21/37 [02:17<01:46,  6.65s/it]"
     ]
    },
    {
     "name": "stdout",
     "output_type": "stream",
     "text": [
      "Epoch 20: No improvement. Patience counter: 18/20\n",
      "Epoch 00021: reducing learning rate of group 0 to 5.9234e-05.\n",
      "Learning Rate: 0.000059\n",
      "Epoch: 20, train_loss: 0.51442382, valid_loss: 0.57661468, time: 6.64\n"
     ]
    },
    {
     "name": "stderr",
     "output_type": "stream",
     "text": [
      "Training Batches: 100%|██████████| 163/163 [00:06<00:00, 24.58it/s]\n",
      "Training Progress:  59%|█████▉    | 22/37 [02:24<01:39,  6.65s/it]"
     ]
    },
    {
     "name": "stdout",
     "output_type": "stream",
     "text": [
      "Epoch 21: No improvement. Patience counter: 19/20\n",
      "Learning Rate: 0.000059\n",
      "Epoch: 21, train_loss: 0.50608683, valid_loss: 0.56753331, time: 6.66\n"
     ]
    },
    {
     "name": "stderr",
     "output_type": "stream",
     "text": [
      "Training Batches: 100%|██████████| 163/163 [00:06<00:00, 24.58it/s]\n",
      "Training Progress:  59%|█████▉    | 22/37 [02:31<01:43,  6.87s/it]"
     ]
    },
    {
     "name": "stdout",
     "output_type": "stream",
     "text": [
      "Epoch 22: No improvement. Patience counter: 20/20\n",
      "Early stopping at epoch 22. Best validation loss: 0.5366\n"
     ]
    },
    {
     "name": "stderr",
     "output_type": "stream",
     "text": [
      "\n"
     ]
    }
   ],
   "source": [
    "from utils.model_grud import *\n",
    "\n",
    "# Initialize the model with filtered parameters\n",
    "model = GRUD(**model_params)\n",
    "\n",
    "# Train the model with Train_Model function\n",
    "train_losses, test_losses , train_acc, test_acc = gru_trained_model_and_metadata(model,\n",
    "                                                                                train_loader,\n",
    "                                                                                early_stop_loader,\n",
    "                                                                                epochs = best_hyperparams[\"num_epochs\"],\n",
    "                                                                                patience_early_stopping = best_hyperparams[\"patience_early_stopping\"],\n",
    "                                                                                patience_lr= best_hyperparams[\"patience_lr_scheduler\"],\n",
    "                                                                                min_delta = best_hyperparams[\"min_delta\"],\n",
    "                                                                                learning_rate = best_hyperparams[\"learning_rate\"])"
   ]
  },
  {
   "cell_type": "code",
   "execution_count": 15,
   "metadata": {},
   "outputs": [
    {
     "data": {
      "image/png": "[encoded data removed]",
      "text/plain": [
       "<Figure size 500x400 with 2 Axes>"
      ]
     },
     "metadata": {},
     "output_type": "display_data"
    }
   ],
   "source": [
    "import matplotlib.pyplot as plt\n",
    "\n",
    "# Convert losses to numpy-compatible lists directly\n",
    "train_losses_cpu = [float(loss) for loss in train_losses]\n",
    "test_losses_cpu = [float(loss) for loss in test_losses]\n",
    "\n",
    "# Plot training and test accuracy\n",
    "plt.figure(figsize=(5, 4))\n",
    "\n",
    "plt.subplot(1, 2, 1)\n",
    "plt.plot(train_acc, label=\"Train Accuracy\")\n",
    "plt.plot(test_acc, label=\"Test Accuracy\")\n",
    "plt.xlabel(\"Epoch\")\n",
    "plt.ylabel(\"Accuracy\")\n",
    "plt.title(\"Accuracy over Epochs\")\n",
    "plt.legend()\n",
    "\n",
    "# Plot training and test loss\n",
    "plt.subplot(1, 2, 2)\n",
    "plt.plot(train_losses, label=\"Train Loss\")\n",
    "plt.plot(test_losses, label=\"Test Loss\")\n",
    "plt.xlabel(\"Epoch\")\n",
    "plt.ylabel(\"Loss\")\n",
    "plt.title(\"Loss over Epochs\")\n",
    "plt.legend()\n",
    "\n",
    "plt.tight_layout()\n",
    "plt.show()"
   ]
  },
  {
   "cell_type": "markdown",
   "metadata": {},
   "source": [
    "##  Attacking the GRUD model\n",
    "Modify ```audit.yaml ``` file to attack GRUD model: \n",
    "  \n",
    "  ```\n",
    "  module_path: \"utils/model_grud.py\" \n",
    "  model_class: \"GRUD\"\n",
    "  target_folder: \"./target_GRUD\"\n",
    "  data_path: \"./data/unflattened/dataset.pkl\"\n",
    "  ```"
   ]
  },
  {
   "cell_type": "code",
   "execution_count": 10,
   "metadata": {},
   "outputs": [
    {
     "name": "stderr",
     "output_type": "stream",
     "text": [
      "2024-12-18 22:30:53,355 INFO     Target model blueprint created from GRUD in utils/model_grud.py.\n",
      "2024-12-18 22:30:53,416 INFO     Loaded target model metadata from ./target_GRUD/model_metadata.pkl\n",
      "2024-12-18 22:30:53,423 INFO     Loaded target model from ./target_GRUD\n"
     ]
    },
    {
     "name": "stderr",
     "output_type": "stream",
     "text": [
      "2024-12-18 22:30:55,259 INFO     Loaded population dataset from ./data/unflattened/dataset.pkl\n",
      "2024-12-18 22:30:55,261 INFO     Loaded population dataset from ./data/unflattened/dataset.pkl\n",
      "2024-12-18 22:30:55,262 INFO     Configuring RMIA attack\n",
      "2024-12-18 22:30:55,263 INFO     Added attack: rmia\n",
      "2024-12-18 22:30:55,264 INFO     Added attack: lira\n",
      "2024-12-18 22:30:55,265 INFO     Preparing attack: rmia\n",
      "2024-12-18 22:30:55,265 INFO     Preparing shadow models for RMIA attack\n",
      "2024-12-18 22:30:55,266 INFO     Preparing attack data for training the RMIA attack\n",
      "2024-12-18 22:30:55,268 INFO     Check for 2 shadow models (dataset: 23944 points)\n",
      "2024-12-18 22:30:55,319 INFO     Training shadow model 0 on 11977 points\n",
      "Training Batches: 100%|██████████| 203/203 [00:08<00:00, 23.05it/s]\n",
      "Training Batches: 100%|██████████| 203/203 [00:08<00:00, 23.09it/s]\n",
      "Training Batches: 100%|██████████| 203/203 [00:08<00:00, 23.14it/s]\n",
      "Training Batches: 100%|██████████| 203/203 [00:08<00:00, 23.11it/s]\n",
      "Training Batches: 100%|██████████| 203/203 [00:08<00:00, 23.25it/s]\n",
      "Training Batches: 100%|██████████| 203/203 [00:08<00:00, 23.44it/s]\n",
      "Training Batches: 100%|██████████| 203/203 [00:08<00:00, 23.40it/s]\n",
      "Training Batches: 100%|██████████| 203/203 [00:08<00:00, 23.29it/s]\n",
      "Training Batches: 100%|██████████| 203/203 [00:08<00:00, 23.00it/s]\n",
      "Training Batches: 100%|██████████| 203/203 [00:08<00:00, 22.97it/s]\n",
      "Training Batches: 100%|██████████| 203/203 [00:08<00:00, 24.86it/s]\n",
      "Training Batches: 100%|██████████| 203/203 [00:07<00:00, 27.16it/s]\n",
      "Training Batches: 100%|██████████| 203/203 [00:07<00:00, 27.14it/s]\n",
      "Training Batches: 100%|██████████| 203/203 [00:07<00:00, 27.19it/s]\n",
      "Training Batches: 100%|██████████| 203/203 [00:07<00:00, 27.19it/s]\n",
      "Training Batches: 100%|██████████| 203/203 [00:07<00:00, 27.10it/s]\n",
      "Training Batches: 100%|██████████| 203/203 [00:07<00:00, 27.18it/s]\n",
      "Training Batches: 100%|██████████| 203/203 [00:07<00:00, 27.23it/s]\n",
      "Training Batches: 100%|██████████| 203/203 [00:07<00:00, 27.31it/s]\n",
      "Training Batches: 100%|██████████| 203/203 [00:07<00:00, 27.15it/s]\n",
      "Training Batches: 100%|██████████| 203/203 [00:07<00:00, 27.16it/s]\n",
      "Training Batches: 100%|██████████| 203/203 [00:07<00:00, 27.19it/s]\n",
      "Training Batches: 100%|██████████| 203/203 [00:07<00:00, 27.23it/s]\n",
      "Training Batches: 100%|██████████| 203/203 [00:07<00:00, 27.17it/s]\n",
      "Training Batches: 100%|██████████| 203/203 [00:08<00:00, 24.94it/s]\n",
      "Training Batches: 100%|██████████| 203/203 [00:08<00:00, 22.92it/s]\n",
      "Training Batches: 100%|██████████| 203/203 [00:08<00:00, 22.75it/s]\n",
      "Training Batches: 100%|██████████| 203/203 [00:08<00:00, 22.71it/s]\n",
      "Training Batches: 100%|██████████| 203/203 [00:08<00:00, 22.64it/s]\n",
      "Training Batches: 100%|██████████| 203/203 [00:08<00:00, 22.66it/s]\n",
      "Training Batches: 100%|██████████| 203/203 [00:08<00:00, 22.66it/s]\n",
      "Training Batches: 100%|██████████| 203/203 [00:08<00:00, 22.57it/s]\n",
      "Training Batches: 100%|██████████| 203/203 [00:08<00:00, 22.61it/s]\n",
      "Training Batches: 100%|██████████| 203/203 [00:08<00:00, 22.58it/s]\n",
      "Training Batches: 100%|██████████| 203/203 [00:09<00:00, 22.54it/s]\n",
      "Training Batches: 100%|██████████| 203/203 [00:08<00:00, 22.57it/s]\n",
      "Training Batches: 100%|██████████| 203/203 [00:09<00:00, 22.54it/s]\n",
      "Training Progress: 100%|██████████| 37/37 [05:08<00:00,  8.35s/it]\n",
      "2024-12-18 22:36:04,137 INFO     Training shadow model 0 complete\n",
      "2024-12-18 22:36:04,143 INFO     Saved shadow model 0 to ./leakpro_output/attack_objects/shadow_model\n",
      "2024-12-18 22:36:04,144 INFO     Storing metadata for shadow model 0\n",
      "2024-12-18 22:36:04,146 INFO     Metadata for shadow model 0 stored in ./leakpro_output/attack_objects/shadow_model\n",
      "2024-12-18 22:36:04,251 INFO     Training shadow model 1 on 11977 points\n",
      "Training Batches: 100%|██████████| 203/203 [00:07<00:00, 25.45it/s]\n",
      "Training Batches: 100%|██████████| 203/203 [00:07<00:00, 25.81it/s]\n",
      "Training Batches: 100%|██████████| 203/203 [00:07<00:00, 25.85it/s]\n",
      "Training Batches: 100%|██████████| 203/203 [00:07<00:00, 25.93it/s]\n",
      "Training Batches: 100%|██████████| 203/203 [00:07<00:00, 25.91it/s]\n",
      "Training Batches: 100%|██████████| 203/203 [00:07<00:00, 25.93it/s]\n",
      "Training Batches: 100%|██████████| 203/203 [00:07<00:00, 25.46it/s]\n",
      "Training Batches: 100%|██████████| 203/203 [00:07<00:00, 26.05it/s]\n",
      "Training Batches: 100%|██████████| 203/203 [00:07<00:00, 26.05it/s]\n",
      "Training Batches: 100%|██████████| 203/203 [00:07<00:00, 26.16it/s]\n",
      "Training Batches: 100%|██████████| 203/203 [00:07<00:00, 26.10it/s]\n",
      "Training Batches: 100%|██████████| 203/203 [00:07<00:00, 26.11it/s]\n",
      "Training Batches: 100%|██████████| 203/203 [00:07<00:00, 26.05it/s]\n",
      "Training Batches: 100%|██████████| 203/203 [00:07<00:00, 26.12it/s]\n",
      "Training Batches: 100%|██████████| 203/203 [00:07<00:00, 26.13it/s]\n",
      "Training Batches: 100%|██████████| 203/203 [00:07<00:00, 26.14it/s]\n",
      "Training Batches: 100%|██████████| 203/203 [00:07<00:00, 26.05it/s]\n",
      "Training Batches: 100%|██████████| 203/203 [00:07<00:00, 25.95it/s]\n",
      "Training Batches: 100%|██████████| 203/203 [00:07<00:00, 25.98it/s]\n",
      "Training Batches: 100%|██████████| 203/203 [00:07<00:00, 25.93it/s]\n",
      "Training Batches: 100%|██████████| 203/203 [00:07<00:00, 25.99it/s]\n",
      "Training Batches: 100%|██████████| 203/203 [00:07<00:00, 25.98it/s]\n",
      "Training Batches: 100%|██████████| 203/203 [00:07<00:00, 25.95it/s]\n",
      "Training Batches: 100%|██████████| 203/203 [00:07<00:00, 25.89it/s]\n",
      "Training Batches: 100%|██████████| 203/203 [00:08<00:00, 23.60it/s]\n",
      "Training Batches: 100%|██████████| 203/203 [00:08<00:00, 22.68it/s]\n",
      "Training Batches: 100%|██████████| 203/203 [00:08<00:00, 22.58it/s]\n",
      "Training Batches: 100%|██████████| 203/203 [00:08<00:00, 22.57it/s]\n",
      "Training Batches: 100%|██████████| 203/203 [00:08<00:00, 22.57it/s]\n",
      "Training Batches: 100%|██████████| 203/203 [00:08<00:00, 22.61it/s]\n",
      "Training Batches: 100%|██████████| 203/203 [00:08<00:00, 22.91it/s]\n",
      "Training Batches: 100%|██████████| 203/203 [00:08<00:00, 24.41it/s]\n",
      "Training Batches: 100%|██████████| 203/203 [00:08<00:00, 22.64it/s]\n",
      "Training Batches: 100%|██████████| 203/203 [00:08<00:00, 22.66it/s]\n",
      "Training Batches: 100%|██████████| 203/203 [00:08<00:00, 22.64it/s]\n",
      "Training Batches: 100%|██████████| 203/203 [00:09<00:00, 22.55it/s]\n",
      "Training Batches: 100%|██████████| 203/203 [00:08<00:00, 22.56it/s]\n",
      "Training Progress: 100%|██████████| 37/37 [05:03<00:00,  8.20s/it]\n",
      "2024-12-18 22:41:07,752 INFO     Training shadow model 1 complete\n",
      "2024-12-18 22:41:07,758 INFO     Saved shadow model 1 to ./leakpro_output/attack_objects/shadow_model\n",
      "2024-12-18 22:41:07,759 INFO     Storing metadata for shadow model 1\n",
      "2024-12-18 22:41:07,760 INFO     Metadata for shadow model 1 stored in ./leakpro_output/attack_objects/shadow_model\n",
      "2024-12-18 22:41:07,788 INFO     Loading shadow model 0\n",
      "2024-12-18 22:41:07,795 INFO     Loaded model from ./leakpro_output/attack_objects/shadow_model/shadow_model_0.pkl\n",
      "2024-12-18 22:41:07,798 INFO     Loading shadow model 1\n",
      "2024-12-18 22:41:07,804 INFO     Loaded model from ./leakpro_output/attack_objects/shadow_model/shadow_model_1.pkl\n",
      "2024-12-18 22:41:07,805 INFO     Running attack: rmia\n",
      "2024-12-18 22:41:07,806 INFO     Running RMIA online attack\n",
      "2024-12-18 22:41:07,806 INFO     Loading metadata 0\n",
      "2024-12-18 22:41:07,809 INFO     Loading metadata 1\n",
      "2024-12-18 22:41:08,203 INFO     Number of points in the audit dataset that are used for online attack: 9498\n",
      "2024-12-18 22:41:25,052 INFO     Subsampling attack data from 4790 points       \n",
      "2024-12-18 22:41:25,057 INFO     Number of attack data points after subsampling: 2395\n",
      "2024-12-18 22:41:29,837 INFO     Finished attack: rmia                        \n",
      "2024-12-18 22:41:29,838 INFO     Preparing attack: lira\n",
      "2024-12-18 22:41:29,843 INFO     Number of existing models exceeds or equals the number of models to create\n",
      "2024-12-18 22:41:29,844 INFO     Loading shadow model 0\n",
      "2024-12-18 22:41:29,850 INFO     Loaded model from ./leakpro_output/attack_objects/shadow_model/shadow_model_0.pkl\n",
      "2024-12-18 22:41:29,851 INFO     Loading shadow model 1\n",
      "2024-12-18 22:41:29,856 INFO     Loaded model from ./leakpro_output/attack_objects/shadow_model/shadow_model_1.pkl\n",
      "2024-12-18 22:41:29,857 INFO     Create masks for all IN and OUT samples\n",
      "2024-12-18 22:41:29,858 INFO     Loading metadata 0\n",
      "2024-12-18 22:41:29,859 INFO     Loading metadata 1\n",
      "2024-12-18 22:41:29,865 INFO     Calculating the logits for all 2 shadow models\n",
      "2024-12-18 22:41:41,241 INFO     Calculating the logits for the target model             \n",
      "2024-12-18 22:41:46,979 INFO     Running attack: lira                                    \n",
      "Processing audit samples: 100%|██████████| 9498/9498 [00:02<00:00, 3251.11it/s]\n",
      "2024-12-18 22:41:49,918 INFO     Finished attack: lira\n",
      "2024-12-18 22:41:49,919 INFO     Preparing results for attack: rmia\n",
      "2024-12-18 22:41:49,920 INFO     Preparing results for attack: lira\n",
      "2024-12-18 22:41:49,920 INFO     Auditing completed\n"
     ]
    }
   ],
   "source": [
    "from mimic_gru_handler import MimicInputHandlerGRU\n",
    "\n",
    "from leakpro import LeakPro\n",
    "\n",
    "# Read the config file\n",
    "config_path = \"audit.yaml\"\n",
    "\n",
    "# Prepare leakpro object\n",
    "leakpro = LeakPro(MimicInputHandlerGRU, config_path)\n",
    "\n",
    "# Run the audit\n",
    "mia_results = leakpro.run_audit(return_results=True)"
   ]
  },
  {
   "cell_type": "markdown",
   "metadata": {},
   "source": [
    "## Report Genrating"
   ]
  },
  {
   "cell_type": "code",
   "execution_count": 11,
   "metadata": {},
   "outputs": [
    {
     "name": "stderr",
     "output_type": "stream",
     "text": [
      "2024-12-18 22:42:15,086 INFO     Initializing report handler...\n",
      "2024-12-18 22:42:15,087 INFO     report_dir set to: ./leakpro_output/results\n",
      "2024-12-18 22:42:15,088 INFO     Saving results for rmia\n",
      "2024-12-18 22:42:20,552 INFO     Saving results for lira\n"
     ]
    },
    {
     "data": {
      "text/plain": [
       "<Figure size 640x480 with 0 Axes>"
      ]
     },
     "metadata": {},
     "output_type": "display_data"
    }
   ],
   "source": [
    "\n",
    "# Import and initialize ReportHandler\n",
    "from leakpro.reporting.report_handler import ReportHandler\n",
    "\n",
    "# report_handler = ReportHandler()\n",
    "report_handler = ReportHandler(report_dir=\"./leakpro_output/results\")\n",
    "\n",
    "# Save MIA resuls using report handler\n",
    "for res in mia_results:\n",
    "    report_handler.save_results(attack_name=res.attack_name, result_data=res, config=res.configs)"
   ]
  },
  {
   "cell_type": "code",
   "execution_count": 12,
   "metadata": {},
   "outputs": [
    {
     "name": "stderr",
     "output_type": "stream",
     "text": [
      "2024-12-18 22:42:39,092 INFO     No results of type GIAResults found.\n",
      "2024-12-18 22:42:39,093 INFO     No results of type SinglingOutResults found.\n",
      "2024-12-18 22:42:39,094 INFO     No results of type InferenceResults found.\n",
      "2024-12-18 22:42:39,094 INFO     No results of type LinkabilityResults found.\n",
      "2024-12-18 22:42:46,070 INFO     PDF compiled\n"
     ]
    },
    {
     "data": {
      "text/plain": [
       "<Figure size 640x480 with 0 Axes>"
      ]
     },
     "metadata": {},
     "output_type": "display_data"
    }
   ],
   "source": [
    "\n",
    "# # Create the report by compiling the latex text\n",
    "report_handler.create_report()"
   ]
  }
 ],
 "metadata": {
  "kernelspec": {
   "display_name": "leakpro_test",
   "language": "python",
   "name": "python3"
  },
  "language_info": {
   "codemirror_mode": {
    "name": "ipython",
    "version": 3
   },
   "file_extension": ".py",
   "mimetype": "text/x-python",
   "name": "python",
   "nbconvert_exporter": "python",
   "pygments_lexer": "ipython3",
   "version": "3.12.2"
  }
 },
 "nbformat": 4,
 "nbformat_minor": 2
}
