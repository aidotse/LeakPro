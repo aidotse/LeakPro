{
 "cells": [
  {
   "cell_type": "markdown",
   "metadata": {},
   "source": [
    "# MIA attacks on Length-of-Stay predictor, Gated Recurrent Unit with Decay (GRU-D)\n",
    "## Installation of Packages in Conda\n",
    "\n",
    "To install the required packages in your conda environment, you can use the following commands:\n",
    "\n",
    "```bash\n",
    "conda install h5py\n",
    "conda install pytables"
   ]
  },
  {
   "cell_type": "code",
   "execution_count": 1,
   "metadata": {},
   "outputs": [],
   "source": [
    "%reload_ext autoreload\n",
    "%autoreload 2"
   ]
  },
  {
   "cell_type": "code",
   "execution_count": 2,
   "metadata": {},
   "outputs": [],
   "source": [
    "import os\n",
    "import sys\n",
    "\n",
    "from torch import zeros\n",
    "\n",
    "project_root = os.path.abspath(os.path.join(os.getcwd(), \"../../..\"))\n",
    "sys.path.append(project_root)\n",
    "\n",
    "from utils.data_processing import get_mimic_dataloaders, get_mimic_dataset"
   ]
  },
  {
   "cell_type": "code",
   "execution_count": 3,
   "metadata": {},
   "outputs": [],
   "source": [
    "# Generate the dataset and dataloaders\n",
    "path = os.path.join(os.getcwd(), \"data/\")\n",
    "\n",
    "train_frac = 0.4\n",
    "valid_frac = 0.0\n",
    "test_frac = 0.0\n",
    "early_stop_frac = 0.4\n",
    "batch_size = 59\n",
    "flatten = False # If LR, flatten the data\n",
    "\n",
    "dataset, train_indices, validation_indices, test_indices, early_stop_indices= get_mimic_dataset(path,\n",
    "                                                                            train_frac ,\n",
    "                                                                            valid_frac,\n",
    "                                                                            test_frac,\n",
    "                                                                            early_stop_frac,\n",
    "                                                                            flatten)"
   ]
  },
  {
   "cell_type": "code",
   "execution_count": 4,
   "metadata": {},
   "outputs": [],
   "source": [
    "train_loader, validation_loader, test_loader, early_stop_loader = get_mimic_dataloaders(dataset,\n",
    "                                                            train_indices,\n",
    "                                                            validation_indices,\n",
    "                                                            test_indices,\n",
    "                                                            early_stop_indices,\n",
    "                                                            batch_size)"
   ]
  },
  {
   "cell_type": "markdown",
   "metadata": {},
   "source": [
    "The best parameter is set based on "
   ]
  },
  {
   "cell_type": "code",
   "execution_count": 5,
   "metadata": {},
   "outputs": [],
   "source": [
    "best_hyperparams ={\n",
    "    \"cell_size\": 58,\n",
    "    \"hidden_size\": 50,\n",
    "    \"learning_rate\": 0.0004738759319792616,\n",
    "    \"num_epochs\":37,\n",
    "    \"patience_early_stopping\": 20,\n",
    "    \"patience_lr_scheduler\": 5,\n",
    "    \"batch_size\": 59,\n",
    "    \"seed\": 4410,\n",
    "    \"min_delta\": 0.00001,\n",
    "    }\n",
    "n_features = int(dataset.x.shape[1]/3)\n",
    "X_mean = zeros(1,dataset.x.shape[2],n_features)\n",
    "\n",
    "model_params = {k: best_hyperparams[k] for k in [\"cell_size\", \"hidden_size\", \"batch_size\"]}\n",
    "\n",
    "# Add other required parameters to model_params\n",
    "model_params.update({\n",
    "    \"input_size\": n_features,\n",
    "    \"X_mean\": X_mean,\n",
    "    \"output_last\": False\n",
    "})"
   ]
  },
  {
   "cell_type": "code",
   "execution_count": 6,
   "metadata": {},
   "outputs": [
    {
     "name": "stdout",
     "output_type": "stream",
     "text": [
      "Model Structure:  GRUD(\n",
      "  (zl): Linear(in_features=258, out_features=50, bias=True)\n",
      "  (rl): Linear(in_features=258, out_features=50, bias=True)\n",
      "  (hl): Linear(in_features=258, out_features=50, bias=True)\n",
      "  (gamma_x_l): FilterLinear(in_features=104, out_features=104, bias=True)\n",
      "  (gamma_h_l): Linear(in_features=104, out_features=50, bias=True)\n",
      "  (fc): Linear(in_features=50, out_features=2, bias=True)\n",
      "  (bn): BatchNorm1d(2, eps=1e-05, momentum=0.1, affine=True, track_running_stats=True)\n",
      "  (drop): Dropout(p=0.7, inplace=False)\n",
      ")\n",
      "Start Training ... \n",
      "Output type dermined by the model\n"
     ]
    },
    {
     "name": "stderr",
     "output_type": "stream",
     "text": [
      "Training Batches: 100%|██████████| 163/163 [00:06<00:00, 25.85it/s]\n",
      "Training Progress:   3%|▎         | 1/37 [00:06<03:47,  6.33s/it]"
     ]
    },
    {
     "name": "stdout",
     "output_type": "stream",
     "text": [
      "Epoch 0: Validation loss improved to 0.5465\n",
      "Learning Rate: 0.000474\n",
      "Epoch: 0, train_loss: 0.91574515, valid_loss: 0.54652536, time: 6.33\n"
     ]
    },
    {
     "name": "stderr",
     "output_type": "stream",
     "text": [
      "Training Batches: 100%|██████████| 163/163 [00:05<00:00, 27.99it/s]\n",
      "Training Progress:   5%|▌         | 2/37 [00:12<03:31,  6.04s/it]"
     ]
    },
    {
     "name": "stdout",
     "output_type": "stream",
     "text": [
      "Epoch 1: No improvement. Patience counter: 1/20\n",
      "Learning Rate: 0.000474\n",
      "Epoch: 1, train_loss: 0.80619425, valid_loss: 0.55089885, time: 5.85\n"
     ]
    },
    {
     "name": "stderr",
     "output_type": "stream",
     "text": [
      "Training Batches: 100%|██████████| 163/163 [00:05<00:00, 27.77it/s]\n",
      "Training Progress:   8%|▊         | 3/37 [00:18<03:23,  5.98s/it]"
     ]
    },
    {
     "name": "stdout",
     "output_type": "stream",
     "text": [
      "Epoch 2: Validation loss improved to 0.5430\n",
      "Learning Rate: 0.000474\n",
      "Epoch: 2, train_loss: 0.77359988, valid_loss: 0.54295176, time: 5.89\n"
     ]
    },
    {
     "name": "stderr",
     "output_type": "stream",
     "text": [
      "Training Batches: 100%|██████████| 163/163 [00:05<00:00, 27.85it/s]\n",
      "Training Progress:  11%|█         | 4/37 [00:23<03:15,  5.94s/it]"
     ]
    },
    {
     "name": "stdout",
     "output_type": "stream",
     "text": [
      "Epoch 3: No improvement. Patience counter: 1/20\n",
      "Learning Rate: 0.000474\n",
      "Epoch: 3, train_loss: 0.75311428, valid_loss: 0.54693145, time: 5.88\n"
     ]
    },
    {
     "name": "stderr",
     "output_type": "stream",
     "text": [
      "Training Batches: 100%|██████████| 163/163 [00:05<00:00, 27.84it/s]\n",
      "Training Progress:  14%|█▎        | 5/37 [00:29<03:09,  5.91s/it]"
     ]
    },
    {
     "name": "stdout",
     "output_type": "stream",
     "text": [
      "Epoch 4: No improvement. Patience counter: 2/20\n",
      "Learning Rate: 0.000474\n",
      "Epoch: 4, train_loss: 0.72863275, valid_loss: 0.5505532, time: 5.88\n"
     ]
    },
    {
     "name": "stderr",
     "output_type": "stream",
     "text": [
      "Training Batches: 100%|██████████| 163/163 [00:05<00:00, 27.97it/s]\n",
      "Training Progress:  16%|█▌        | 6/37 [00:35<03:02,  5.89s/it]"
     ]
    },
    {
     "name": "stdout",
     "output_type": "stream",
     "text": [
      "Epoch 5: No improvement. Patience counter: 3/20\n",
      "Learning Rate: 0.000474\n",
      "Epoch: 5, train_loss: 0.70212508, valid_loss: 0.55445176, time: 5.85\n"
     ]
    },
    {
     "name": "stderr",
     "output_type": "stream",
     "text": [
      "Training Batches: 100%|██████████| 163/163 [00:05<00:00, 27.87it/s]\n",
      "Training Progress:  19%|█▉        | 7/37 [00:41<02:56,  5.89s/it]"
     ]
    },
    {
     "name": "stdout",
     "output_type": "stream",
     "text": [
      "Epoch 6: Validation loss improved to 0.5264\n",
      "Learning Rate: 0.000474\n",
      "Epoch: 6, train_loss: 0.69059086, valid_loss: 0.52636313, time: 5.87\n"
     ]
    },
    {
     "name": "stderr",
     "output_type": "stream",
     "text": [
      "Training Batches: 100%|██████████| 163/163 [00:05<00:00, 27.89it/s]\n",
      "Training Progress:  22%|██▏       | 8/37 [00:47<02:50,  5.88s/it]"
     ]
    },
    {
     "name": "stdout",
     "output_type": "stream",
     "text": [
      "Epoch 7: No improvement. Patience counter: 1/20\n",
      "Learning Rate: 0.000474\n",
      "Epoch: 7, train_loss: 0.67503941, valid_loss: 0.54865062, time: 5.87\n"
     ]
    },
    {
     "name": "stderr",
     "output_type": "stream",
     "text": [
      "Training Batches: 100%|██████████| 163/163 [00:06<00:00, 25.03it/s]\n",
      "Training Progress:  24%|██▍       | 9/37 [00:53<02:50,  6.09s/it]"
     ]
    },
    {
     "name": "stdout",
     "output_type": "stream",
     "text": [
      "Epoch 8: No improvement. Patience counter: 2/20\n",
      "Learning Rate: 0.000474\n",
      "Epoch: 8, train_loss: 0.66222243, valid_loss: 0.54420102, time: 6.54\n"
     ]
    },
    {
     "name": "stderr",
     "output_type": "stream",
     "text": [
      "Training Batches: 100%|██████████| 163/163 [00:06<00:00, 23.64it/s]\n",
      "Training Progress:  27%|██▋       | 10/37 [01:00<02:51,  6.34s/it]"
     ]
    },
    {
     "name": "stdout",
     "output_type": "stream",
     "text": [
      "Epoch 9: No improvement. Patience counter: 3/20\n",
      "Learning Rate: 0.000474\n",
      "Epoch: 9, train_loss: 0.65595967, valid_loss: 0.57257217, time: 6.93\n"
     ]
    },
    {
     "name": "stderr",
     "output_type": "stream",
     "text": [
      "Training Batches: 100%|██████████| 163/163 [00:06<00:00, 23.69it/s]\n",
      "Training Progress:  30%|██▉       | 11/37 [01:07<02:49,  6.52s/it]"
     ]
    },
    {
     "name": "stdout",
     "output_type": "stream",
     "text": [
      "Epoch 10: No improvement. Patience counter: 4/20\n",
      "Learning Rate: 0.000474\n",
      "Epoch: 10, train_loss: 0.63517105, valid_loss: 0.57987648, time: 6.91\n"
     ]
    },
    {
     "name": "stderr",
     "output_type": "stream",
     "text": [
      "Training Batches: 100%|██████████| 163/163 [00:06<00:00, 24.25it/s]\n",
      "Training Progress:  32%|███▏      | 12/37 [01:14<02:44,  6.59s/it]"
     ]
    },
    {
     "name": "stdout",
     "output_type": "stream",
     "text": [
      "Epoch 11: No improvement. Patience counter: 5/20\n",
      "Learning Rate: 0.000474\n",
      "Epoch: 11, train_loss: 0.62169916, valid_loss: 0.56918234, time: 6.75\n"
     ]
    },
    {
     "name": "stderr",
     "output_type": "stream",
     "text": [
      "Training Batches: 100%|██████████| 163/163 [00:05<00:00, 27.76it/s]\n",
      "Training Progress:  35%|███▌      | 13/37 [01:20<02:33,  6.38s/it]"
     ]
    },
    {
     "name": "stdout",
     "output_type": "stream",
     "text": [
      "Epoch 12: No improvement. Patience counter: 6/20\n",
      "Epoch 00013: reducing learning rate of group 0 to 2.3694e-04.\n",
      "Learning Rate: 0.000237\n",
      "Epoch: 12, train_loss: 0.60484666, valid_loss: 0.58585578, time: 5.89\n"
     ]
    },
    {
     "name": "stderr",
     "output_type": "stream",
     "text": [
      "Training Batches: 100%|██████████| 163/163 [00:05<00:00, 27.71it/s]\n",
      "Training Progress:  38%|███▊      | 14/37 [01:26<02:23,  6.23s/it]"
     ]
    },
    {
     "name": "stdout",
     "output_type": "stream",
     "text": [
      "Epoch 13: No improvement. Patience counter: 7/20\n",
      "Learning Rate: 0.000237\n",
      "Epoch: 13, train_loss: 0.59263619, valid_loss: 0.578408, time: 5.9\n"
     ]
    },
    {
     "name": "stderr",
     "output_type": "stream",
     "text": [
      "Training Batches: 100%|██████████| 163/163 [00:05<00:00, 27.89it/s]\n",
      "Training Progress:  41%|████      | 15/37 [01:32<02:14,  6.12s/it]"
     ]
    },
    {
     "name": "stdout",
     "output_type": "stream",
     "text": [
      "Epoch 14: No improvement. Patience counter: 8/20\n",
      "Learning Rate: 0.000237\n",
      "Epoch: 14, train_loss: 0.58088603, valid_loss: 0.56650627, time: 5.87\n"
     ]
    },
    {
     "name": "stderr",
     "output_type": "stream",
     "text": [
      "Training Batches: 100%|██████████| 163/163 [00:05<00:00, 27.85it/s]\n",
      "Training Progress:  43%|████▎     | 16/37 [01:38<02:07,  6.05s/it]"
     ]
    },
    {
     "name": "stdout",
     "output_type": "stream",
     "text": [
      "Epoch 15: No improvement. Patience counter: 9/20\n",
      "Learning Rate: 0.000237\n",
      "Epoch: 15, train_loss: 0.57637249, valid_loss: 0.59794462, time: 5.88\n"
     ]
    },
    {
     "name": "stderr",
     "output_type": "stream",
     "text": [
      "Training Batches: 100%|██████████| 163/163 [00:05<00:00, 27.95it/s]\n",
      "Training Progress:  46%|████▌     | 17/37 [01:43<01:59,  5.99s/it]"
     ]
    },
    {
     "name": "stdout",
     "output_type": "stream",
     "text": [
      "Epoch 16: No improvement. Patience counter: 10/20\n",
      "Learning Rate: 0.000237\n",
      "Epoch: 16, train_loss: 0.56604034, valid_loss: 0.58306062, time: 5.86\n"
     ]
    },
    {
     "name": "stderr",
     "output_type": "stream",
     "text": [
      "Training Batches: 100%|██████████| 163/163 [00:05<00:00, 28.01it/s]\n",
      "Training Progress:  49%|████▊     | 18/37 [01:49<01:52,  5.95s/it]"
     ]
    },
    {
     "name": "stdout",
     "output_type": "stream",
     "text": [
      "Epoch 17: No improvement. Patience counter: 11/20\n",
      "Learning Rate: 0.000237\n",
      "Epoch: 17, train_loss: 0.56382535, valid_loss: 0.56528944, time: 5.84\n"
     ]
    },
    {
     "name": "stderr",
     "output_type": "stream",
     "text": [
      "Training Batches: 100%|██████████| 163/163 [00:05<00:00, 27.94it/s]\n",
      "Training Progress:  51%|█████▏    | 19/37 [01:55<01:46,  5.92s/it]"
     ]
    },
    {
     "name": "stdout",
     "output_type": "stream",
     "text": [
      "Epoch 18: No improvement. Patience counter: 12/20\n",
      "Epoch 00019: reducing learning rate of group 0 to 1.1847e-04.\n",
      "Learning Rate: 0.000118\n",
      "Epoch: 18, train_loss: 0.55655927, valid_loss: 0.56542158, time: 5.86\n"
     ]
    },
    {
     "name": "stderr",
     "output_type": "stream",
     "text": [
      "Training Batches: 100%|██████████| 163/163 [00:05<00:00, 27.96it/s]\n",
      "Training Progress:  54%|█████▍    | 20/37 [02:01<01:40,  5.90s/it]"
     ]
    },
    {
     "name": "stdout",
     "output_type": "stream",
     "text": [
      "Epoch 19: No improvement. Patience counter: 13/20\n",
      "Learning Rate: 0.000118\n",
      "Epoch: 19, train_loss: 0.54329451, valid_loss: 0.56631804, time: 5.85\n"
     ]
    },
    {
     "name": "stderr",
     "output_type": "stream",
     "text": [
      "Training Batches: 100%|██████████| 163/163 [00:05<00:00, 27.98it/s]\n",
      "Training Progress:  57%|█████▋    | 21/37 [02:07<01:34,  5.88s/it]"
     ]
    },
    {
     "name": "stdout",
     "output_type": "stream",
     "text": [
      "Epoch 20: No improvement. Patience counter: 14/20\n",
      "Learning Rate: 0.000118\n",
      "Epoch: 20, train_loss: 0.5378569, valid_loss: 0.54777211, time: 5.85\n"
     ]
    },
    {
     "name": "stderr",
     "output_type": "stream",
     "text": [
      "Training Batches: 100%|██████████| 163/163 [00:05<00:00, 27.83it/s]\n",
      "Training Progress:  59%|█████▉    | 22/37 [02:13<01:28,  5.88s/it]"
     ]
    },
    {
     "name": "stdout",
     "output_type": "stream",
     "text": [
      "Epoch 21: No improvement. Patience counter: 15/20\n",
      "Learning Rate: 0.000118\n",
      "Epoch: 21, train_loss: 0.53511728, valid_loss: 0.56077629, time: 5.88\n"
     ]
    },
    {
     "name": "stderr",
     "output_type": "stream",
     "text": [
      "Training Batches: 100%|██████████| 163/163 [00:05<00:00, 27.95it/s]\n",
      "Training Progress:  62%|██████▏   | 23/37 [02:19<01:22,  5.87s/it]"
     ]
    },
    {
     "name": "stdout",
     "output_type": "stream",
     "text": [
      "Epoch 22: No improvement. Patience counter: 16/20\n",
      "Learning Rate: 0.000118\n",
      "Epoch: 22, train_loss: 0.52470232, valid_loss: 0.55289888, time: 5.85\n"
     ]
    },
    {
     "name": "stderr",
     "output_type": "stream",
     "text": [
      "Training Batches: 100%|██████████| 163/163 [00:05<00:00, 27.87it/s]\n",
      "Training Progress:  65%|██████▍   | 24/37 [02:24<01:16,  5.87s/it]"
     ]
    },
    {
     "name": "stdout",
     "output_type": "stream",
     "text": [
      "Epoch 23: No improvement. Patience counter: 17/20\n",
      "Learning Rate: 0.000118\n",
      "Epoch: 23, train_loss: 0.52599402, valid_loss: 0.53712106, time: 5.87\n"
     ]
    },
    {
     "name": "stderr",
     "output_type": "stream",
     "text": [
      "Training Batches: 100%|██████████| 163/163 [00:05<00:00, 27.74it/s]\n",
      "Training Progress:  68%|██████▊   | 25/37 [02:30<01:10,  5.88s/it]"
     ]
    },
    {
     "name": "stdout",
     "output_type": "stream",
     "text": [
      "Epoch 24: No improvement. Patience counter: 18/20\n",
      "Epoch 00025: reducing learning rate of group 0 to 5.9234e-05.\n",
      "Learning Rate: 0.000059\n",
      "Epoch: 24, train_loss: 0.52590217, valid_loss: 0.54974645, time: 5.9\n"
     ]
    },
    {
     "name": "stderr",
     "output_type": "stream",
     "text": [
      "Training Batches: 100%|██████████| 163/163 [00:05<00:00, 27.72it/s]\n",
      "Training Progress:  70%|███████   | 26/37 [02:36<01:04,  5.89s/it]"
     ]
    },
    {
     "name": "stdout",
     "output_type": "stream",
     "text": [
      "Epoch 25: No improvement. Patience counter: 19/20\n",
      "Learning Rate: 0.000059\n",
      "Epoch: 25, train_loss: 0.51189875, valid_loss: 0.54926807, time: 5.9\n"
     ]
    },
    {
     "name": "stderr",
     "output_type": "stream",
     "text": [
      "Training Batches: 100%|██████████| 163/163 [00:05<00:00, 27.90it/s]\n",
      "Training Progress:  70%|███████   | 26/37 [02:42<01:08,  6.25s/it]"
     ]
    },
    {
     "name": "stdout",
     "output_type": "stream",
     "text": [
      "Epoch 26: No improvement. Patience counter: 20/20\n",
      "Early stopping at epoch 26. Best validation loss: 0.5264\n"
     ]
    },
    {
     "name": "stderr",
     "output_type": "stream",
     "text": [
      "\n"
     ]
    }
   ],
   "source": [
    "from utils.model_grud import *\n",
    "\n",
    "# Initialize the model with filtered parameters\n",
    "model = GRUD(**model_params)\n",
    "\n",
    "# Train the model with Train_Model function\n",
    "train_losses, test_losses , train_acc, test_acc = gru_trained_model_and_metadata(model,\n",
    "                                                                                train_loader,\n",
    "                                                                                early_stop_loader,\n",
    "                                                                                epochs = best_hyperparams[\"num_epochs\"],\n",
    "                                                                                patience_early_stopping = best_hyperparams[\"patience_early_stopping\"],\n",
    "                                                                                patience_lr= best_hyperparams[\"patience_lr_scheduler\"],\n",
    "                                                                                min_delta = best_hyperparams[\"min_delta\"],\n",
    "                                                                                learning_rate = best_hyperparams[\"learning_rate\"])"
   ]
  },
  {
   "cell_type": "code",
   "execution_count": 7,
   "metadata": {},
   "outputs": [
    {
     "data": {
      "image/png": "[encoded data removed]",
      "text/plain": [
       "<Figure size 500x400 with 2 Axes>"
      ]
     },
     "metadata": {},
     "output_type": "display_data"
    }
   ],
   "source": [
    "import matplotlib.pyplot as plt\n",
    "\n",
    "# Convert losses to numpy-compatible lists directly\n",
    "train_losses_cpu = [float(loss) for loss in train_losses]\n",
    "test_losses_cpu = [float(loss) for loss in test_losses]\n",
    "\n",
    "# Plot training and test accuracy\n",
    "plt.figure(figsize=(5, 4))\n",
    "\n",
    "plt.subplot(1, 2, 1)\n",
    "plt.plot(train_acc, label=\"Train Accuracy\")\n",
    "plt.plot(test_acc, label=\"Test Accuracy\")\n",
    "plt.xlabel(\"Epoch\")\n",
    "plt.ylabel(\"Accuracy\")\n",
    "plt.title(\"Accuracy over Epochs\")\n",
    "plt.legend()\n",
    "\n",
    "# Plot training and test loss\n",
    "plt.subplot(1, 2, 2)\n",
    "plt.plot(train_losses, label=\"Train Loss\")\n",
    "plt.plot(test_losses, label=\"Test Loss\")\n",
    "plt.xlabel(\"Epoch\")\n",
    "plt.ylabel(\"Loss\")\n",
    "plt.title(\"Loss over Epochs\")\n",
    "plt.legend()\n",
    "\n",
    "plt.tight_layout()\n",
    "plt.show()"
   ]
  },
  {
   "cell_type": "markdown",
   "metadata": {},
   "source": [
    "##  Attacking the GRUD model\n",
    "Modify ```audit.yaml ``` file to attack GRUD model: \n",
    "  \n",
    "  ```\n",
    "  module_path: \"utils/model_grud.py\" \n",
    "  model_class: \"GRUD\"\n",
    "  target_folder: \"./target_GRUD\"\n",
    "  data_path: \"./data/unflattened/dataset.pkl\"\n",
    "  ```"
   ]
  },
  {
   "cell_type": "code",
   "execution_count": 8,
   "metadata": {},
   "outputs": [
    {
     "name": "stderr",
     "output_type": "stream",
     "text": [
      "2024-12-18 13:36:42,583 INFO     Target model blueprint created from GRUD in utils/model_grud.py.\n",
      "2024-12-18 13:36:42,592 INFO     Loaded target model metadata from ./target_GRUD/model_metadata.pkl\n",
      "2024-12-18 13:36:42,595 INFO     Loaded target model from ./target_GRUD\n",
      "2024-12-18 13:36:43,589 INFO     Loaded population dataset from ./data/unflattened/dataset.pkl\n",
      "2024-12-18 13:36:43,590 INFO     Loaded population dataset from ./data/unflattened/dataset.pkl\n",
      "2024-12-18 13:36:43,590 INFO     Creating shadow model handler singleton\n",
      "2024-12-18 13:36:43,595 INFO     Creating distillation model handler singleton\n",
      "2024-12-18 13:36:43,600 INFO     Configuring RMIA attack\n",
      "2024-12-18 13:36:43,601 INFO     Added attack: rmia\n",
      "2024-12-18 13:36:43,601 INFO     Added attack: lira\n",
      "2024-12-18 13:36:43,601 INFO     Preparing attack: rmia\n",
      "2024-12-18 13:36:43,602 INFO     Preparing shadow models for RMIA attack\n",
      "2024-12-18 13:36:43,602 INFO     Preparing attack data for training the RMIA attack\n",
      "2024-12-18 13:36:43,603 INFO     Check for 8 shadow models (dataset: 23944 points)\n",
      "2024-12-18 13:36:43,606 INFO     Number of existing models exceeds or equals the number of models to create\n",
      "2024-12-18 13:36:43,606 INFO     Loading shadow model 0\n"
     ]
    },
    {
     "ename": "RuntimeError",
     "evalue": "Error(s) in loading state_dict for GRUD:\n\tsize mismatch for zl.weight: copying a param with shape torch.Size([40, 248]) from checkpoint, the shape in current model is torch.Size([50, 258]).\n\tsize mismatch for zl.bias: copying a param with shape torch.Size([40]) from checkpoint, the shape in current model is torch.Size([50]).\n\tsize mismatch for rl.weight: copying a param with shape torch.Size([40, 248]) from checkpoint, the shape in current model is torch.Size([50, 258]).\n\tsize mismatch for rl.bias: copying a param with shape torch.Size([40]) from checkpoint, the shape in current model is torch.Size([50]).\n\tsize mismatch for hl.weight: copying a param with shape torch.Size([40, 248]) from checkpoint, the shape in current model is torch.Size([50, 258]).\n\tsize mismatch for hl.bias: copying a param with shape torch.Size([40]) from checkpoint, the shape in current model is torch.Size([50]).\n\tsize mismatch for gamma_h_l.weight: copying a param with shape torch.Size([40, 104]) from checkpoint, the shape in current model is torch.Size([50, 104]).\n\tsize mismatch for gamma_h_l.bias: copying a param with shape torch.Size([40]) from checkpoint, the shape in current model is torch.Size([50]).\n\tsize mismatch for fc.weight: copying a param with shape torch.Size([2, 40]) from checkpoint, the shape in current model is torch.Size([2, 50]).",
     "output_type": "error",
     "traceback": [
      "\u001b[0;31m---------------------------------------------------------------------------\u001b[0m",
      "\u001b[0;31mRuntimeError\u001b[0m                              Traceback (most recent call last)",
      "Cell \u001b[0;32mIn[8], line 12\u001b[0m\n\u001b[1;32m      9\u001b[0m leakpro \u001b[38;5;241m=\u001b[39m LeakPro(MimicInputHandlerGRU, config_path)\n\u001b[1;32m     11\u001b[0m \u001b[38;5;66;03m# Run the audit\u001b[39;00m\n\u001b[0;32m---> 12\u001b[0m mia_results \u001b[38;5;241m=\u001b[39m leakpro\u001b[38;5;241m.\u001b[39mrun_audit(return_results\u001b[38;5;241m=\u001b[39m\u001b[38;5;28;01mTrue\u001b[39;00m)\n",
      "File \u001b[0;32m~/LeakPro/leakpro/leakpro.py:130\u001b[0m, in \u001b[0;36mLeakPro.run_audit\u001b[0;34m(self, return_results)\u001b[0m\n\u001b[1;32m    128\u001b[0m \u001b[38;5;28;01mdef\u001b[39;00m \u001b[38;5;21mrun_audit\u001b[39m(\u001b[38;5;28mself\u001b[39m:Self, return_results: \u001b[38;5;28mbool\u001b[39m \u001b[38;5;241m=\u001b[39m \u001b[38;5;28;01mFalse\u001b[39;00m) \u001b[38;5;241m-\u001b[39m\u001b[38;5;241m>\u001b[39m \u001b[38;5;28;01mNone\u001b[39;00m:\n\u001b[1;32m    129\u001b[0m \u001b[38;5;250m    \u001b[39m\u001b[38;5;124;03m\"\"\"Run the audit.\"\"\"\u001b[39;00m\n\u001b[0;32m--> 130\u001b[0m     audit_results \u001b[38;5;241m=\u001b[39m \u001b[38;5;28mself\u001b[39m\u001b[38;5;241m.\u001b[39mattack_scheduler\u001b[38;5;241m.\u001b[39mrun_attacks()\n\u001b[1;32m    131\u001b[0m     results \u001b[38;5;241m=\u001b[39m [] \u001b[38;5;28;01mif\u001b[39;00m return_results \u001b[38;5;28;01melse\u001b[39;00m \u001b[38;5;28;01mNone\u001b[39;00m\n\u001b[1;32m    133\u001b[0m     \u001b[38;5;28;01mfor\u001b[39;00m attack_name \u001b[38;5;129;01min\u001b[39;00m audit_results:\n",
      "File \u001b[0;32m~/LeakPro/leakpro/attacks/attack_scheduler.py:59\u001b[0m, in \u001b[0;36mAttackScheduler.run_attacks\u001b[0;34m(self)\u001b[0m\n\u001b[1;32m     57\u001b[0m \u001b[38;5;28;01mfor\u001b[39;00m attack, attack_type \u001b[38;5;129;01min\u001b[39;00m \u001b[38;5;28mzip\u001b[39m(\u001b[38;5;28mself\u001b[39m\u001b[38;5;241m.\u001b[39mattacks, \u001b[38;5;28mself\u001b[39m\u001b[38;5;241m.\u001b[39mattack_list):\n\u001b[1;32m     58\u001b[0m     logger\u001b[38;5;241m.\u001b[39minfo(\u001b[38;5;124mf\u001b[39m\u001b[38;5;124m\"\u001b[39m\u001b[38;5;124mPreparing attack: \u001b[39m\u001b[38;5;132;01m{\u001b[39;00mattack_type\u001b[38;5;132;01m}\u001b[39;00m\u001b[38;5;124m\"\u001b[39m)\n\u001b[0;32m---> 59\u001b[0m     attack\u001b[38;5;241m.\u001b[39mprepare_attack()\n\u001b[1;32m     61\u001b[0m     logger\u001b[38;5;241m.\u001b[39minfo(\u001b[38;5;124mf\u001b[39m\u001b[38;5;124m\"\u001b[39m\u001b[38;5;124mRunning attack: \u001b[39m\u001b[38;5;132;01m{\u001b[39;00mattack_type\u001b[38;5;132;01m}\u001b[39;00m\u001b[38;5;124m\"\u001b[39m)\n\u001b[1;32m     63\u001b[0m     result \u001b[38;5;241m=\u001b[39m attack\u001b[38;5;241m.\u001b[39mrun_attack()\n",
      "File \u001b[0;32m~/LeakPro/leakpro/attacks/mia_attacks/rmia.py:115\u001b[0m, in \u001b[0;36mAttackRMIA.prepare_attack\u001b[0;34m(self)\u001b[0m\n\u001b[1;32m    109\u001b[0m \u001b[38;5;28mself\u001b[39m\u001b[38;5;241m.\u001b[39mshadow_model_indices \u001b[38;5;241m=\u001b[39m ShadowModelHandler()\u001b[38;5;241m.\u001b[39mcreate_shadow_models(\n\u001b[1;32m    110\u001b[0m     num_models \u001b[38;5;241m=\u001b[39m \u001b[38;5;28mself\u001b[39m\u001b[38;5;241m.\u001b[39mnum_shadow_models,\n\u001b[1;32m    111\u001b[0m     shadow_population \u001b[38;5;241m=\u001b[39m \u001b[38;5;28mself\u001b[39m\u001b[38;5;241m.\u001b[39mattack_data_indices,\n\u001b[1;32m    112\u001b[0m     training_fraction \u001b[38;5;241m=\u001b[39m \u001b[38;5;28mself\u001b[39m\u001b[38;5;241m.\u001b[39mtraining_data_fraction,\n\u001b[1;32m    113\u001b[0m     online \u001b[38;5;241m=\u001b[39m \u001b[38;5;28mself\u001b[39m\u001b[38;5;241m.\u001b[39monline)\n\u001b[1;32m    114\u001b[0m \u001b[38;5;66;03m# load shadow models\u001b[39;00m\n\u001b[0;32m--> 115\u001b[0m \u001b[38;5;28mself\u001b[39m\u001b[38;5;241m.\u001b[39mshadow_models, _ \u001b[38;5;241m=\u001b[39m ShadowModelHandler()\u001b[38;5;241m.\u001b[39mget_shadow_models(\u001b[38;5;28mself\u001b[39m\u001b[38;5;241m.\u001b[39mshadow_model_indices)\n\u001b[1;32m    117\u001b[0m \u001b[38;5;66;03m# compute quantities that are not touching the audit dataset\u001b[39;00m\n\u001b[1;32m    118\u001b[0m \u001b[38;5;28;01mif\u001b[39;00m \u001b[38;5;28mself\u001b[39m\u001b[38;5;241m.\u001b[39monline \u001b[38;5;129;01mis\u001b[39;00m \u001b[38;5;28;01mFalse\u001b[39;00m:\n\u001b[1;32m    119\u001b[0m     \u001b[38;5;66;03m# compute the ratio of p(z|theta) (target model) to p(z)=sum_{theta'} p(z|theta') (shadow models)\u001b[39;00m\n\u001b[1;32m    120\u001b[0m     \u001b[38;5;66;03m# for all points in the attack dataset output from signal: # models x # data points x # classes\u001b[39;00m\n\u001b[1;32m    121\u001b[0m \n\u001b[1;32m    122\u001b[0m     \u001b[38;5;66;03m# subsample the attack data based on the fraction\u001b[39;00m\n",
      "File \u001b[0;32m~/LeakPro/leakpro/attacks/utils/shadow_model_handler.py:192\u001b[0m, in \u001b[0;36mShadowModelHandler.get_shadow_models\u001b[0;34m(self, num_models)\u001b[0m\n\u001b[1;32m    190\u001b[0m \u001b[38;5;28;01mfor\u001b[39;00m i \u001b[38;5;129;01min\u001b[39;00m num_models:\n\u001b[1;32m    191\u001b[0m     logger\u001b[38;5;241m.\u001b[39minfo(\u001b[38;5;124mf\u001b[39m\u001b[38;5;124m\"\u001b[39m\u001b[38;5;124mLoading shadow model \u001b[39m\u001b[38;5;132;01m{\u001b[39;00mi\u001b[38;5;132;01m}\u001b[39;00m\u001b[38;5;124m\"\u001b[39m)\n\u001b[0;32m--> 192\u001b[0m     model \u001b[38;5;241m=\u001b[39m \u001b[38;5;28mself\u001b[39m\u001b[38;5;241m.\u001b[39m_load_shadow_model(i)\n\u001b[1;32m    193\u001b[0m     shadow_models\u001b[38;5;241m.\u001b[39mappend(model)\n\u001b[1;32m    194\u001b[0m     shadow_model_indices\u001b[38;5;241m.\u001b[39mappend(i)\n",
      "File \u001b[0;32m~/LeakPro/leakpro/attacks/utils/shadow_model_handler.py:183\u001b[0m, in \u001b[0;36mShadowModelHandler._load_shadow_model\u001b[0;34m(self, index)\u001b[0m\n\u001b[1;32m    180\u001b[0m     \u001b[38;5;28;01mraise\u001b[39;00m \u001b[38;5;167;01mValueError\u001b[39;00m(\u001b[38;5;124m\"\u001b[39m\u001b[38;5;124mIndex out of range\u001b[39m\u001b[38;5;124m\"\u001b[39m)\n\u001b[1;32m    182\u001b[0m model_path \u001b[38;5;241m=\u001b[39m \u001b[38;5;124mf\u001b[39m\u001b[38;5;124m\"\u001b[39m\u001b[38;5;132;01m{\u001b[39;00m\u001b[38;5;28mself\u001b[39m\u001b[38;5;241m.\u001b[39mstorage_path\u001b[38;5;132;01m}\u001b[39;00m\u001b[38;5;124m/\u001b[39m\u001b[38;5;132;01m{\u001b[39;00m\u001b[38;5;28mself\u001b[39m\u001b[38;5;241m.\u001b[39mmodel_storage_name\u001b[38;5;132;01m}\u001b[39;00m\u001b[38;5;124m_\u001b[39m\u001b[38;5;132;01m{\u001b[39;00mindex\u001b[38;5;132;01m}\u001b[39;00m\u001b[38;5;124m.pkl\u001b[39m\u001b[38;5;124m\"\u001b[39m\n\u001b[0;32m--> 183\u001b[0m shadow_model, criterion \u001b[38;5;241m=\u001b[39m \u001b[38;5;28mself\u001b[39m\u001b[38;5;241m.\u001b[39m_load_model(model_path)\n\u001b[1;32m    184\u001b[0m \u001b[38;5;28;01mreturn\u001b[39;00m PytorchModel(shadow_model, criterion)\n",
      "File \u001b[0;32m~/LeakPro/leakpro/attacks/utils/model_handler.py:162\u001b[0m, in \u001b[0;36mModelHandler._load_model\u001b[0;34m(self, model_path)\u001b[0m\n\u001b[1;32m    160\u001b[0m \u001b[38;5;28;01mtry\u001b[39;00m:\n\u001b[1;32m    161\u001b[0m     \u001b[38;5;28;01mwith\u001b[39;00m \u001b[38;5;28mopen\u001b[39m(model_path, \u001b[38;5;124m\"\u001b[39m\u001b[38;5;124mrb\u001b[39m\u001b[38;5;124m\"\u001b[39m) \u001b[38;5;28;01mas\u001b[39;00m f:\n\u001b[0;32m--> 162\u001b[0m         model\u001b[38;5;241m.\u001b[39mload_state_dict(load(f))\n\u001b[1;32m    163\u001b[0m         logger\u001b[38;5;241m.\u001b[39minfo(\u001b[38;5;124mf\u001b[39m\u001b[38;5;124m\"\u001b[39m\u001b[38;5;124mLoaded model from \u001b[39m\u001b[38;5;132;01m{\u001b[39;00mmodel_path\u001b[38;5;132;01m}\u001b[39;00m\u001b[38;5;124m\"\u001b[39m)\n\u001b[1;32m    164\u001b[0m     \u001b[38;5;28;01mreturn\u001b[39;00m model, criterion\n",
      "File \u001b[0;32m~/miniconda3/envs/leakpro_test/lib/python3.12/site-packages/torch/nn/modules/module.py:2152\u001b[0m, in \u001b[0;36mModule.load_state_dict\u001b[0;34m(self, state_dict, strict, assign)\u001b[0m\n\u001b[1;32m   2147\u001b[0m         error_msgs\u001b[38;5;241m.\u001b[39minsert(\n\u001b[1;32m   2148\u001b[0m             \u001b[38;5;241m0\u001b[39m, \u001b[38;5;124m'\u001b[39m\u001b[38;5;124mMissing key(s) in state_dict: \u001b[39m\u001b[38;5;132;01m{}\u001b[39;00m\u001b[38;5;124m. \u001b[39m\u001b[38;5;124m'\u001b[39m\u001b[38;5;241m.\u001b[39mformat(\n\u001b[1;32m   2149\u001b[0m                 \u001b[38;5;124m'\u001b[39m\u001b[38;5;124m, \u001b[39m\u001b[38;5;124m'\u001b[39m\u001b[38;5;241m.\u001b[39mjoin(\u001b[38;5;124mf\u001b[39m\u001b[38;5;124m'\u001b[39m\u001b[38;5;124m\"\u001b[39m\u001b[38;5;132;01m{\u001b[39;00mk\u001b[38;5;132;01m}\u001b[39;00m\u001b[38;5;124m\"\u001b[39m\u001b[38;5;124m'\u001b[39m \u001b[38;5;28;01mfor\u001b[39;00m k \u001b[38;5;129;01min\u001b[39;00m missing_keys)))\n\u001b[1;32m   2151\u001b[0m \u001b[38;5;28;01mif\u001b[39;00m \u001b[38;5;28mlen\u001b[39m(error_msgs) \u001b[38;5;241m>\u001b[39m \u001b[38;5;241m0\u001b[39m:\n\u001b[0;32m-> 2152\u001b[0m     \u001b[38;5;28;01mraise\u001b[39;00m \u001b[38;5;167;01mRuntimeError\u001b[39;00m(\u001b[38;5;124m'\u001b[39m\u001b[38;5;124mError(s) in loading state_dict for \u001b[39m\u001b[38;5;132;01m{}\u001b[39;00m\u001b[38;5;124m:\u001b[39m\u001b[38;5;130;01m\\n\u001b[39;00m\u001b[38;5;130;01m\\t\u001b[39;00m\u001b[38;5;132;01m{}\u001b[39;00m\u001b[38;5;124m'\u001b[39m\u001b[38;5;241m.\u001b[39mformat(\n\u001b[1;32m   2153\u001b[0m                        \u001b[38;5;28mself\u001b[39m\u001b[38;5;241m.\u001b[39m\u001b[38;5;18m__class__\u001b[39m\u001b[38;5;241m.\u001b[39m\u001b[38;5;18m__name__\u001b[39m, \u001b[38;5;124m\"\u001b[39m\u001b[38;5;130;01m\\n\u001b[39;00m\u001b[38;5;130;01m\\t\u001b[39;00m\u001b[38;5;124m\"\u001b[39m\u001b[38;5;241m.\u001b[39mjoin(error_msgs)))\n\u001b[1;32m   2154\u001b[0m \u001b[38;5;28;01mreturn\u001b[39;00m _IncompatibleKeys(missing_keys, unexpected_keys)\n",
      "\u001b[0;31mRuntimeError\u001b[0m: Error(s) in loading state_dict for GRUD:\n\tsize mismatch for zl.weight: copying a param with shape torch.Size([40, 248]) from checkpoint, the shape in current model is torch.Size([50, 258]).\n\tsize mismatch for zl.bias: copying a param with shape torch.Size([40]) from checkpoint, the shape in current model is torch.Size([50]).\n\tsize mismatch for rl.weight: copying a param with shape torch.Size([40, 248]) from checkpoint, the shape in current model is torch.Size([50, 258]).\n\tsize mismatch for rl.bias: copying a param with shape torch.Size([40]) from checkpoint, the shape in current model is torch.Size([50]).\n\tsize mismatch for hl.weight: copying a param with shape torch.Size([40, 248]) from checkpoint, the shape in current model is torch.Size([50, 258]).\n\tsize mismatch for hl.bias: copying a param with shape torch.Size([40]) from checkpoint, the shape in current model is torch.Size([50]).\n\tsize mismatch for gamma_h_l.weight: copying a param with shape torch.Size([40, 104]) from checkpoint, the shape in current model is torch.Size([50, 104]).\n\tsize mismatch for gamma_h_l.bias: copying a param with shape torch.Size([40]) from checkpoint, the shape in current model is torch.Size([50]).\n\tsize mismatch for fc.weight: copying a param with shape torch.Size([2, 40]) from checkpoint, the shape in current model is torch.Size([2, 50])."
     ]
    }
   ],
   "source": [
    "from mimic_gru_handler import MimicInputHandlerGRU\n",
    "\n",
    "from leakpro import LeakPro\n",
    "\n",
    "# Read the config file\n",
    "config_path = \"audit.yaml\"\n",
    "\n",
    "# Prepare leakpro object\n",
    "leakpro = LeakPro(MimicInputHandlerGRU, config_path)\n",
    "\n",
    "# Run the audit\n",
    "mia_results = leakpro.run_audit(return_results=True)"
   ]
  },
  {
   "cell_type": "markdown",
   "metadata": {},
   "source": [
    "## Report Genrating"
   ]
  },
  {
   "cell_type": "code",
   "execution_count": null,
   "metadata": {},
   "outputs": [],
   "source": [
    "\n",
    "# Import and initialize ReportHandler\n",
    "from leakpro.reporting.report_handler import ReportHandler\n",
    "\n",
    "# report_handler = ReportHandler()\n",
    "report_handler = ReportHandler(report_dir=\"./leakpro_output/results\")\n",
    "\n",
    "# Save MIA resuls using report handler\n",
    "for res in mia_results:\n",
    "    report_handler.save_results(attack_name=res.attack_name, result_data=res, config=res.configs)"
   ]
  },
  {
   "cell_type": "code",
   "execution_count": null,
   "metadata": {},
   "outputs": [],
   "source": [
    "\n",
    "# # Create the report by compiling the latex text\n",
    "report_handler.create_report()"
   ]
  }
 ],
 "metadata": {
  "kernelspec": {
   "display_name": "leakpro_test",
   "language": "python",
   "name": "python3"
  },
  "language_info": {
   "codemirror_mode": {
    "name": "ipython",
    "version": 3
   },
   "file_extension": ".py",
   "mimetype": "text/x-python",
   "name": "python",
   "nbconvert_exporter": "python",
   "pygments_lexer": "ipython3",
   "version": "3.12.2"
  }
 },
 "nbformat": 4,
 "nbformat_minor": 2
}
