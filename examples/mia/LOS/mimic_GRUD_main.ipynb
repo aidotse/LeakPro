{
 "cells": [
  {
   "cell_type": "markdown",
   "metadata": {},
   "source": [
    "# MIA attacks on Length-of-Stay predictor, Gated Recurrent Unit with Decay (GRU-D)\n",
    "## Installation of Packages in Conda\n",
    "\n",
    "To install the required packages in your conda environment, you can use the following commands:\n",
    "\n",
    "```bash\n",
    "conda install h5py\n",
    "conda install pytables"
   ]
  },
  {
   "cell_type": "code",
   "execution_count": 2,
   "metadata": {},
   "outputs": [],
   "source": [
    "%reload_ext autoreload\n",
    "%autoreload 2"
   ]
  },
  {
   "cell_type": "code",
   "execution_count": 3,
   "metadata": {},
   "outputs": [],
   "source": [
    "import os\n",
    "import sys\n",
    "\n",
    "from torch import zeros\n",
    "\n",
    "project_root = os.path.abspath(os.path.join(os.getcwd(), \"../../..\"))\n",
    "sys.path.append(project_root)\n",
    "\n",
    "from utils.data_processing import get_mimic_dataloaders, get_mimic_dataset"
   ]
  },
  {
   "cell_type": "markdown",
   "metadata": {},
   "source": [
    "The  `batch_size` is one of the parameters which is assigned based on hyperparameter tuning as detailed in [this notebook](https://github.com/MLforHealth/MIMIC_Extract/blob/4daf3c89be7de05d26f47819d68d5532de6f753a/notebooks/Baselines%20for%20Mortality%20and%20LOS%20prediction%20-%20GRU-D.ipynb)."
   ]
  },
  {
   "cell_type": "code",
   "execution_count": 4,
   "metadata": {},
   "outputs": [
    {
     "name": "stdout",
     "output_type": "stream",
     "text": [
      "Loading dataset...\n",
      "Loaded dataset from /home/fazeleh/LeakPro/examples/mia/LOS/data/unflattened/dataset.pkl\n"
     ]
    }
   ],
   "source": [
    "# Generate the dataset and dataloaders\n",
    "path = os.path.join(os.getcwd(), \"data/\")\n",
    "\n",
    "train_frac = 0.4\n",
    "valid_frac = 0.0\n",
    "test_frac = 0.0\n",
    "early_stop_frac = 0.4\n",
    "batch_size = 59\n",
    "use_LR = False # True if you want to use the LR model, False if you want to use the GRUD model\n",
    "\n",
    "dataset, train_indices, validation_indices, test_indices, early_stop_indices= get_mimic_dataset(path,\n",
    "                                                                            train_frac ,\n",
    "                                                                            valid_frac,\n",
    "                                                                            test_frac,\n",
    "                                                                            early_stop_frac,\n",
    "                                                                            use_LR)"
   ]
  },
  {
   "cell_type": "code",
   "execution_count": 5,
   "metadata": {},
   "outputs": [],
   "source": [
    "train_loader, validation_loader, test_loader, early_stop_loader = get_mimic_dataloaders(dataset,\n",
    "                                                            train_indices,\n",
    "                                                            validation_indices,\n",
    "                                                            test_indices,\n",
    "                                                            early_stop_indices,\n",
    "                                                            batch_size)"
   ]
  },
  {
   "cell_type": "markdown",
   "metadata": {},
   "source": [
    "The `optimized_hyperparams` is assigned based on hyperparameter tuning as detailed in [this notebook](https://github.com/MLforHealth/MIMIC_Extract/blob/4daf3c89be7de05d26f47819d68d5532de6f753a/notebooks/Baselines%20for%20Mortality%20and%20LOS%20prediction%20-%20GRU-D.ipynb)."
   ]
  },
  {
   "cell_type": "code",
   "execution_count": 6,
   "metadata": {},
   "outputs": [],
   "source": [
    "optimized_hyperparams ={\n",
    "    \"cell_size\": 58,\n",
    "    \"hidden_size\": 78,\n",
    "    \"learning_rate\": 0.0004738759319792616,\n",
    "    \"num_epochs\":37,\n",
    "    \"patience_early_stopping\": 20,\n",
    "    \"patience_lr_scheduler\": 5,\n",
    "    \"batch_size\": 59,\n",
    "    \"seed\": 4410,\n",
    "    \"min_delta\": 0.00001,\n",
    "    }\n",
    "n_features = int(dataset.x.shape[1]/3)\n",
    "X_mean = zeros(1,dataset.x.shape[2],n_features)\n",
    "\n",
    "model_params = {k: optimized_hyperparams[k] for k in [\"cell_size\", \"hidden_size\", \"batch_size\"]}\n",
    "\n",
    "# Add other required parameters to model_params\n",
    "model_params.update({\n",
    "    \"input_size\": n_features,\n",
    "    \"X_mean\": X_mean,\n",
    "    \"output_last\": False\n",
    "})"
   ]
  },
  {
   "cell_type": "code",
   "execution_count": 7,
   "metadata": {},
   "outputs": [
    {
     "name": "stdout",
     "output_type": "stream",
     "text": [
      "Model Structure:  GRUD(\n",
      "  (zl): Linear(in_features=286, out_features=78, bias=True)\n",
      "  (rl): Linear(in_features=286, out_features=78, bias=True)\n",
      "  (hl): Linear(in_features=286, out_features=78, bias=True)\n",
      "  (gamma_x_l): FilterLinear(in_features=104, out_features=104, bias=True)\n",
      "  (gamma_h_l): Linear(in_features=104, out_features=78, bias=True)\n",
      "  (fc): Linear(in_features=78, out_features=2, bias=True)\n",
      "  (bn): BatchNorm1d(2, eps=1e-05, momentum=0.1, affine=True, track_running_stats=True)\n",
      "  (drop): Dropout(p=0.7, inplace=False)\n",
      ")\n",
      "Start Training ... \n",
      "Output type dermined by the model\n"
     ]
    },
    {
     "name": "stderr",
     "output_type": "stream",
     "text": [
      "Training Batches: 100%|██████████| 163/163 [00:07<00:00, 22.28it/s]\n",
      "Training Progress:   3%|▎         | 1/37 [00:07<04:24,  7.34s/it]"
     ]
    },
    {
     "name": "stdout",
     "output_type": "stream",
     "text": [
      "Epoch 0: Validation loss improved to 0.5127\n",
      "Learning Rate: 0.000474\n",
      "Epoch: 0, train_loss: 0.90600625, valid_loss: 0.51268703, time: 7.34\n"
     ]
    },
    {
     "name": "stderr",
     "output_type": "stream",
     "text": [
      "Training Batches: 100%|██████████| 163/163 [00:06<00:00, 24.12it/s]\n",
      "Training Progress:   5%|▌         | 2/37 [00:14<04:05,  7.01s/it]"
     ]
    },
    {
     "name": "stdout",
     "output_type": "stream",
     "text": [
      "Epoch 1: Validation loss improved to 0.5078\n",
      "Learning Rate: 0.000474\n",
      "Epoch: 1, train_loss: 0.80034931, valid_loss: 0.50783253, time: 6.78\n"
     ]
    },
    {
     "name": "stderr",
     "output_type": "stream",
     "text": [
      "Training Batches: 100%|██████████| 163/163 [00:06<00:00, 23.95it/s]\n",
      "Training Progress:   8%|▊         | 3/37 [00:20<03:55,  6.93s/it]"
     ]
    },
    {
     "name": "stdout",
     "output_type": "stream",
     "text": [
      "Epoch 2: No improvement. Patience counter: 1/20\n",
      "Learning Rate: 0.000474\n",
      "Epoch: 2, train_loss: 0.76733459, valid_loss: 0.55360639, time: 6.83\n"
     ]
    },
    {
     "name": "stderr",
     "output_type": "stream",
     "text": [
      "Training Batches: 100%|██████████| 163/163 [00:06<00:00, 24.15it/s]\n",
      "Training Progress:  11%|█         | 4/37 [00:27<03:46,  6.87s/it]"
     ]
    },
    {
     "name": "stdout",
     "output_type": "stream",
     "text": [
      "Epoch 3: No improvement. Patience counter: 2/20\n",
      "Learning Rate: 0.000474\n",
      "Epoch: 3, train_loss: 0.74066611, valid_loss: 0.53837186, time: 6.77\n"
     ]
    },
    {
     "name": "stderr",
     "output_type": "stream",
     "text": [
      "Training Batches: 100%|██████████| 163/163 [00:06<00:00, 23.87it/s]\n",
      "Training Progress:  14%|█▎        | 5/37 [00:34<03:39,  6.86s/it]"
     ]
    },
    {
     "name": "stdout",
     "output_type": "stream",
     "text": [
      "Epoch 4: No improvement. Patience counter: 3/20\n",
      "Learning Rate: 0.000474\n",
      "Epoch: 4, train_loss: 0.72348623, valid_loss: 0.52800447, time: 6.85\n"
     ]
    },
    {
     "name": "stderr",
     "output_type": "stream",
     "text": [
      "Training Batches: 100%|██████████| 163/163 [00:06<00:00, 23.92it/s]\n",
      "Training Progress:  16%|█▌        | 6/37 [00:41<03:32,  6.86s/it]"
     ]
    },
    {
     "name": "stdout",
     "output_type": "stream",
     "text": [
      "Epoch 5: No improvement. Patience counter: 4/20\n",
      "Learning Rate: 0.000474\n",
      "Epoch: 5, train_loss: 0.70422922, valid_loss: 0.5873853, time: 6.84\n"
     ]
    },
    {
     "name": "stderr",
     "output_type": "stream",
     "text": [
      "Training Batches: 100%|██████████| 163/163 [00:06<00:00, 23.78it/s]\n",
      "Training Progress:  19%|█▉        | 7/37 [00:48<03:25,  6.86s/it]"
     ]
    },
    {
     "name": "stdout",
     "output_type": "stream",
     "text": [
      "Epoch 6: No improvement. Patience counter: 5/20\n",
      "Learning Rate: 0.000474\n",
      "Epoch: 6, train_loss: 0.68721295, valid_loss: 0.54968578, time: 6.88\n"
     ]
    },
    {
     "name": "stderr",
     "output_type": "stream",
     "text": [
      "Training Batches: 100%|██████████| 163/163 [00:06<00:00, 23.98it/s]\n",
      "Training Progress:  22%|██▏       | 8/37 [00:55<03:18,  6.85s/it]"
     ]
    },
    {
     "name": "stdout",
     "output_type": "stream",
     "text": [
      "Epoch 7: No improvement. Patience counter: 6/20\n",
      "Epoch 00008: reducing learning rate of group 0 to 2.3694e-04.\n",
      "Learning Rate: 0.000237\n",
      "Epoch: 7, train_loss: 0.65936494, valid_loss: 0.56551975, time: 6.82\n"
     ]
    },
    {
     "name": "stderr",
     "output_type": "stream",
     "text": [
      "Training Batches: 100%|██████████| 163/163 [00:06<00:00, 23.80it/s]\n",
      "Training Progress:  24%|██▍       | 9/37 [01:02<03:12,  6.86s/it]"
     ]
    },
    {
     "name": "stdout",
     "output_type": "stream",
     "text": [
      "Epoch 8: No improvement. Patience counter: 7/20\n",
      "Learning Rate: 0.000237\n",
      "Epoch: 8, train_loss: 0.61763578, valid_loss: 0.57842529, time: 6.88\n"
     ]
    },
    {
     "name": "stderr",
     "output_type": "stream",
     "text": [
      "Training Batches: 100%|██████████| 163/163 [00:06<00:00, 23.89it/s]\n",
      "Training Progress:  27%|██▋       | 10/37 [01:08<03:05,  6.86s/it]"
     ]
    },
    {
     "name": "stdout",
     "output_type": "stream",
     "text": [
      "Epoch 9: No improvement. Patience counter: 8/20\n",
      "Learning Rate: 0.000237\n",
      "Epoch: 9, train_loss: 0.62895368, valid_loss: 0.56870216, time: 6.85\n"
     ]
    },
    {
     "name": "stderr",
     "output_type": "stream",
     "text": [
      "Training Batches: 100%|██████████| 163/163 [00:06<00:00, 23.81it/s]\n",
      "Training Progress:  30%|██▉       | 11/37 [01:15<02:58,  6.86s/it]"
     ]
    },
    {
     "name": "stdout",
     "output_type": "stream",
     "text": [
      "Epoch 10: No improvement. Patience counter: 9/20\n",
      "Learning Rate: 0.000237\n",
      "Epoch: 10, train_loss: 0.6022617, valid_loss: 0.5680961, time: 6.87\n"
     ]
    },
    {
     "name": "stderr",
     "output_type": "stream",
     "text": [
      "Training Batches: 100%|██████████| 163/163 [00:06<00:00, 23.66it/s]\n",
      "Training Progress:  32%|███▏      | 12/37 [01:22<02:51,  6.88s/it]"
     ]
    },
    {
     "name": "stdout",
     "output_type": "stream",
     "text": [
      "Epoch 11: No improvement. Patience counter: 10/20\n",
      "Learning Rate: 0.000237\n",
      "Epoch: 11, train_loss: 0.59018976, valid_loss: 0.55305964, time: 6.92\n"
     ]
    },
    {
     "name": "stderr",
     "output_type": "stream",
     "text": [
      "Training Batches: 100%|██████████| 163/163 [00:06<00:00, 23.78it/s]\n",
      "Training Progress:  35%|███▌      | 13/37 [01:29<02:45,  6.88s/it]"
     ]
    },
    {
     "name": "stdout",
     "output_type": "stream",
     "text": [
      "Epoch 12: No improvement. Patience counter: 11/20\n",
      "Learning Rate: 0.000237\n",
      "Epoch: 12, train_loss: 0.58661764, valid_loss: 0.57494694, time: 6.88\n"
     ]
    },
    {
     "name": "stderr",
     "output_type": "stream",
     "text": [
      "Training Batches: 100%|██████████| 163/163 [00:06<00:00, 23.83it/s]\n",
      "Training Progress:  38%|███▊      | 14/37 [01:36<02:38,  6.87s/it]"
     ]
    },
    {
     "name": "stdout",
     "output_type": "stream",
     "text": [
      "Epoch 13: No improvement. Patience counter: 12/20\n",
      "Epoch 00014: reducing learning rate of group 0 to 1.1847e-04.\n",
      "Learning Rate: 0.000118\n",
      "Epoch: 13, train_loss: 0.58373045, valid_loss: 0.56426746, time: 6.87\n"
     ]
    },
    {
     "name": "stderr",
     "output_type": "stream",
     "text": [
      "Training Batches: 100%|██████████| 163/163 [00:06<00:00, 23.66it/s]\n",
      "Training Progress:  41%|████      | 15/37 [01:43<02:31,  6.89s/it]"
     ]
    },
    {
     "name": "stdout",
     "output_type": "stream",
     "text": [
      "Epoch 14: No improvement. Patience counter: 13/20\n",
      "Learning Rate: 0.000118\n",
      "Epoch: 14, train_loss: 0.5602767, valid_loss: 0.56786698, time: 6.91\n"
     ]
    },
    {
     "name": "stderr",
     "output_type": "stream",
     "text": [
      "Training Batches: 100%|██████████| 163/163 [00:06<00:00, 23.72it/s]\n",
      "Training Progress:  43%|████▎     | 16/37 [01:50<02:24,  6.89s/it]"
     ]
    },
    {
     "name": "stdout",
     "output_type": "stream",
     "text": [
      "Epoch 15: No improvement. Patience counter: 14/20\n",
      "Learning Rate: 0.000118\n",
      "Epoch: 15, train_loss: 0.55402973, valid_loss: 0.56124943, time: 6.9\n"
     ]
    },
    {
     "name": "stderr",
     "output_type": "stream",
     "text": [
      "Training Batches: 100%|██████████| 163/163 [00:06<00:00, 23.68it/s]\n",
      "Training Progress:  46%|████▌     | 17/37 [01:57<02:17,  6.90s/it]"
     ]
    },
    {
     "name": "stdout",
     "output_type": "stream",
     "text": [
      "Epoch 16: No improvement. Patience counter: 15/20\n",
      "Learning Rate: 0.000118\n",
      "Epoch: 16, train_loss: 0.55244331, valid_loss: 0.5543347, time: 6.91\n"
     ]
    },
    {
     "name": "stderr",
     "output_type": "stream",
     "text": [
      "Training Batches: 100%|██████████| 163/163 [00:06<00:00, 23.61it/s]\n",
      "Training Progress:  49%|████▊     | 18/37 [02:04<02:11,  6.91s/it]"
     ]
    },
    {
     "name": "stdout",
     "output_type": "stream",
     "text": [
      "Epoch 17: No improvement. Patience counter: 16/20\n",
      "Learning Rate: 0.000118\n",
      "Epoch: 17, train_loss: 0.54556851, valid_loss: 0.56179345, time: 6.93\n"
     ]
    },
    {
     "name": "stderr",
     "output_type": "stream",
     "text": [
      "Training Batches: 100%|██████████| 163/163 [00:06<00:00, 23.75it/s]\n",
      "Training Progress:  51%|█████▏    | 19/37 [02:10<02:04,  6.90s/it]"
     ]
    },
    {
     "name": "stdout",
     "output_type": "stream",
     "text": [
      "Epoch 18: No improvement. Patience counter: 17/20\n",
      "Learning Rate: 0.000118\n",
      "Epoch: 18, train_loss: 0.53646851, valid_loss: 0.57852155, time: 6.89\n"
     ]
    },
    {
     "name": "stderr",
     "output_type": "stream",
     "text": [
      "Training Batches: 100%|██████████| 163/163 [00:06<00:00, 26.42it/s]\n",
      "Training Progress:  54%|█████▍    | 20/37 [02:17<01:53,  6.69s/it]"
     ]
    },
    {
     "name": "stdout",
     "output_type": "stream",
     "text": [
      "Epoch 19: No improvement. Patience counter: 18/20\n",
      "Epoch 00020: reducing learning rate of group 0 to 5.9234e-05.\n",
      "Learning Rate: 0.000059\n",
      "Epoch: 19, train_loss: 0.53324886, valid_loss: 0.57487661, time: 6.19\n"
     ]
    },
    {
     "name": "stderr",
     "output_type": "stream",
     "text": [
      "Training Batches: 100%|██████████| 163/163 [00:05<00:00, 27.72it/s]\n",
      "Training Progress:  57%|█████▋    | 21/37 [02:23<01:43,  6.45s/it]"
     ]
    },
    {
     "name": "stdout",
     "output_type": "stream",
     "text": [
      "Epoch 20: No improvement. Patience counter: 19/20\n",
      "Learning Rate: 0.000059\n",
      "Epoch: 20, train_loss: 0.52443605, valid_loss: 0.57012284, time: 5.9\n"
     ]
    },
    {
     "name": "stderr",
     "output_type": "stream",
     "text": [
      "Training Batches: 100%|██████████| 163/163 [00:05<00:00, 27.85it/s]\n",
      "Training Progress:  57%|█████▋    | 21/37 [02:28<01:53,  7.09s/it]"
     ]
    },
    {
     "name": "stdout",
     "output_type": "stream",
     "text": [
      "Epoch 21: No improvement. Patience counter: 20/20\n",
      "Early stopping at epoch 21. Best validation loss: 0.5078\n"
     ]
    },
    {
     "name": "stderr",
     "output_type": "stream",
     "text": [
      "\n"
     ]
    }
   ],
   "source": [
    "from utils.model_grud import *\n",
    "\n",
    "# Initialize the model with filtered parameters\n",
    "model = GRUD(**model_params)\n",
    "\n",
    "# Train the model with Train_Model function\n",
    "train_losses, test_losses , train_acc, test_acc = gru_trained_model_and_metadata(model,\n",
    "                                                                                train_loader,\n",
    "                                                                                early_stop_loader,\n",
    "                                                                                epochs = optimized_hyperparams[\"num_epochs\"],\n",
    "                                                                                patience_early_stopping = optimized_hyperparams[\"patience_early_stopping\"],\n",
    "                                                                                patience_lr= optimized_hyperparams[\"patience_lr_scheduler\"],\n",
    "                                                                                min_delta = optimized_hyperparams[\"min_delta\"],\n",
    "                                                                                learning_rate = optimized_hyperparams[\"learning_rate\"])"
   ]
  },
  {
   "cell_type": "code",
   "execution_count": 8,
   "metadata": {},
   "outputs": [
    {
     "data": {
      "image/png": "[encoded data removed]",
      "text/plain": [
       "<Figure size 500x400 with 2 Axes>"
      ]
     },
     "metadata": {},
     "output_type": "display_data"
    }
   ],
   "source": [
    "import matplotlib.pyplot as plt\n",
    "\n",
    "# Convert losses to numpy-compatible lists directly\n",
    "train_losses_cpu = [float(loss) for loss in train_losses]\n",
    "test_losses_cpu = [float(loss) for loss in test_losses]\n",
    "\n",
    "# Plot training and test accuracy\n",
    "plt.figure(figsize=(5, 4))\n",
    "\n",
    "plt.subplot(1, 2, 1)\n",
    "plt.plot(train_acc, label=\"Train Accuracy\")\n",
    "plt.plot(test_acc, label=\"Test Accuracy\")\n",
    "plt.xlabel(\"Epoch\")\n",
    "plt.ylabel(\"Accuracy\")\n",
    "plt.title(\"Accuracy over Epochs\")\n",
    "plt.legend()\n",
    "\n",
    "# Plot training and test loss\n",
    "plt.subplot(1, 2, 2)\n",
    "plt.plot(train_losses, label=\"Train Loss\")\n",
    "plt.plot(test_losses, label=\"Test Loss\")\n",
    "plt.xlabel(\"Epoch\")\n",
    "plt.ylabel(\"Loss\")\n",
    "plt.title(\"Loss over Epochs\")\n",
    "plt.legend()\n",
    "\n",
    "plt.tight_layout()\n",
    "plt.show()"
   ]
  },
  {
   "cell_type": "markdown",
   "metadata": {},
   "source": [
    "##  Attacking the GRUD model\n",
    "Modify ```audit.yaml ``` file to attack GRUD model: \n",
    "  \n",
    "  ```\n",
    "  module_path: \"utils/model_grud.py\" \n",
    "  model_class: \"GRUD\"\n",
    "  target_folder: \"./target_GRUD\"\n",
    "  data_path: \"./data/unflattened/dataset.pkl\"\n",
    "  ```"
   ]
  },
  {
   "cell_type": "code",
   "execution_count": 9,
   "metadata": {},
   "outputs": [
    {
     "name": "stderr",
     "output_type": "stream",
     "text": [
      "2025-01-04 09:41:35,162 INFO     Target model blueprint created from GRUD in utils/model_grud.py.\n",
      "2025-01-04 09:41:35,170 INFO     Loaded target model metadata from ./target_GRUD/model_metadata.pkl\n",
      "2025-01-04 09:41:35,174 INFO     Loaded target model from ./target_GRUD\n"
     ]
    },
    {
     "name": "stderr",
     "output_type": "stream",
     "text": [
      "2025-01-04 09:41:36,126 INFO     Loaded population dataset from ./data/unflattened/dataset.pkl\n",
      "2025-01-04 09:41:36,127 INFO     Loaded population dataset from ./data/unflattened/dataset.pkl\n",
      "2025-01-04 09:41:36,128 INFO     Creating shadow model handler singleton\n",
      "2025-01-04 09:41:36,132 INFO     Creating distillation model handler singleton\n",
      "2025-01-04 09:41:36,138 INFO     Configuring RMIA attack\n",
      "2025-01-04 09:41:36,138 INFO     Added attack: rmia\n",
      "2025-01-04 09:41:36,138 INFO     Added attack: lira\n",
      "2025-01-04 09:41:36,139 INFO     Preparing attack: rmia\n",
      "2025-01-04 09:41:36,139 INFO     Preparing shadow models for RMIA attack\n",
      "2025-01-04 09:41:36,139 INFO     Preparing attack data for training the RMIA attack\n",
      "2025-01-04 09:41:36,141 INFO     Check for 8 shadow models (dataset: 23944 points)\n",
      "2025-01-04 09:41:36,143 INFO     Number of existing models exceeds or equals the number of models to create\n",
      "2025-01-04 09:41:36,144 INFO     Loading shadow model 0\n",
      "2025-01-04 09:41:36,150 INFO     Loaded model from ./leakpro_output/attack_objects/shadow_model/shadow_model_0.pkl\n",
      "2025-01-04 09:41:36,150 INFO     Loading shadow model 4\n",
      "2025-01-04 09:41:36,154 INFO     Loaded model from ./leakpro_output/attack_objects/shadow_model/shadow_model_4.pkl\n",
      "2025-01-04 09:41:36,154 INFO     Loading shadow model 2\n",
      "2025-01-04 09:41:36,158 INFO     Loaded model from ./leakpro_output/attack_objects/shadow_model/shadow_model_2.pkl\n",
      "2025-01-04 09:41:36,158 INFO     Loading shadow model 3\n",
      "2025-01-04 09:41:36,162 INFO     Loaded model from ./leakpro_output/attack_objects/shadow_model/shadow_model_3.pkl\n",
      "2025-01-04 09:41:36,163 INFO     Loading shadow model 5\n",
      "2025-01-04 09:41:36,166 INFO     Loaded model from ./leakpro_output/attack_objects/shadow_model/shadow_model_5.pkl\n",
      "2025-01-04 09:41:36,167 INFO     Loading shadow model 7\n",
      "2025-01-04 09:41:36,171 INFO     Loaded model from ./leakpro_output/attack_objects/shadow_model/shadow_model_7.pkl\n",
      "2025-01-04 09:41:36,171 INFO     Loading shadow model 1\n",
      "2025-01-04 09:41:36,175 INFO     Loaded model from ./leakpro_output/attack_objects/shadow_model/shadow_model_1.pkl\n",
      "2025-01-04 09:41:36,175 INFO     Loading shadow model 6\n",
      "2025-01-04 09:41:36,179 INFO     Loaded model from ./leakpro_output/attack_objects/shadow_model/shadow_model_6.pkl\n",
      "2025-01-04 09:41:36,179 INFO     Running attack: rmia\n",
      "2025-01-04 09:41:36,180 INFO     Running RMIA online attack\n",
      "2025-01-04 09:41:36,180 INFO     Loading metadata 0\n",
      "2025-01-04 09:41:36,181 INFO     Loading metadata 4\n",
      "2025-01-04 09:41:36,181 INFO     Loading metadata 2\n",
      "2025-01-04 09:41:36,182 INFO     Loading metadata 3\n",
      "2025-01-04 09:41:36,183 INFO     Loading metadata 5\n",
      "2025-01-04 09:41:36,183 INFO     Loading metadata 7\n",
      "2025-01-04 09:41:36,184 INFO     Loading metadata 1\n",
      "2025-01-04 09:41:36,184 INFO     Loading metadata 6\n",
      "2025-01-04 09:41:36,952 INFO     Number of points in the audit dataset that are used for online attack: 18985\n",
      "2025-01-04 09:43:01,678 INFO     Subsampling attack data from 4790 points       \n",
      "2025-01-04 09:43:01,679 INFO     Number of attack data points after subsampling: 2395\n",
      "2025-01-04 09:43:13,335 INFO     Finished attack: rmia                        \n",
      "2025-01-04 09:43:13,336 INFO     Preparing attack: lira\n",
      "2025-01-04 09:43:13,339 INFO     Number of existing models exceeds or equals the number of models to create\n",
      "2025-01-04 09:43:13,340 INFO     Loading shadow model 0\n",
      "2025-01-04 09:43:13,343 INFO     Loaded model from ./leakpro_output/attack_objects/shadow_model/shadow_model_0.pkl\n",
      "2025-01-04 09:43:13,344 INFO     Loading shadow model 4\n",
      "2025-01-04 09:43:13,348 INFO     Loaded model from ./leakpro_output/attack_objects/shadow_model/shadow_model_4.pkl\n",
      "2025-01-04 09:43:13,348 INFO     Loading shadow model 2\n",
      "2025-01-04 09:43:13,352 INFO     Loaded model from ./leakpro_output/attack_objects/shadow_model/shadow_model_2.pkl\n",
      "2025-01-04 09:43:13,352 INFO     Loading shadow model 3\n",
      "2025-01-04 09:43:13,356 INFO     Loaded model from ./leakpro_output/attack_objects/shadow_model/shadow_model_3.pkl\n",
      "2025-01-04 09:43:13,356 INFO     Loading shadow model 5\n",
      "2025-01-04 09:43:13,360 INFO     Loaded model from ./leakpro_output/attack_objects/shadow_model/shadow_model_5.pkl\n",
      "2025-01-04 09:43:13,361 INFO     Loading shadow model 7\n",
      "2025-01-04 09:43:13,364 INFO     Loaded model from ./leakpro_output/attack_objects/shadow_model/shadow_model_7.pkl\n",
      "2025-01-04 09:43:13,365 INFO     Loading shadow model 1\n",
      "2025-01-04 09:43:13,369 INFO     Loaded model from ./leakpro_output/attack_objects/shadow_model/shadow_model_1.pkl\n",
      "2025-01-04 09:43:13,369 INFO     Loading shadow model 6\n",
      "2025-01-04 09:43:13,373 INFO     Loaded model from ./leakpro_output/attack_objects/shadow_model/shadow_model_6.pkl\n",
      "2025-01-04 09:43:13,374 INFO     Create masks for all IN and OUT samples\n",
      "2025-01-04 09:43:13,374 INFO     Loading metadata 0\n",
      "2025-01-04 09:43:13,375 INFO     Loading metadata 4\n",
      "2025-01-04 09:43:13,376 INFO     Loading metadata 2\n",
      "2025-01-04 09:43:13,376 INFO     Loading metadata 3\n",
      "2025-01-04 09:43:13,377 INFO     Loading metadata 5\n",
      "2025-01-04 09:43:13,377 INFO     Loading metadata 7\n",
      "2025-01-04 09:43:13,378 INFO     Loading metadata 1\n",
      "2025-01-04 09:43:13,379 INFO     Loading metadata 6\n",
      "2025-01-04 09:43:13,388 INFO     Calculating the logits for all 8 shadow models\n",
      "2025-01-04 09:44:30,637 INFO     Calculating the logits for the target model             \n",
      "2025-01-04 09:44:40,363 INFO     Running attack: lira                                    \n",
      "Processing audit samples: 100%|██████████| 18985/18985 [00:03<00:00, 5962.65it/s]\n",
      "2025-01-04 09:44:43,585 INFO     Finished attack: lira\n",
      "2025-01-04 09:44:43,586 INFO     Preparing results for attack: rmia\n",
      "2025-01-04 09:44:43,586 INFO     Preparing results for attack: lira\n",
      "2025-01-04 09:44:43,586 INFO     Auditing completed\n"
     ]
    }
   ],
   "source": [
    "from mimic_gru_handler import MimicInputHandlerGRU\n",
    "\n",
    "from leakpro import LeakPro\n",
    "\n",
    "# Read the config file\n",
    "config_path = \"audit.yaml\"\n",
    "\n",
    "# Prepare leakpro object\n",
    "leakpro = LeakPro(MimicInputHandlerGRU, config_path)\n",
    "\n",
    "# Run the audit\n",
    "mia_results = leakpro.run_audit(return_results=True)"
   ]
  },
  {
   "cell_type": "markdown",
   "metadata": {},
   "source": [
    "## Report Genrating"
   ]
  },
  {
   "cell_type": "code",
   "execution_count": 10,
   "metadata": {},
   "outputs": [
    {
     "name": "stderr",
     "output_type": "stream",
     "text": [
      "2025-01-04 09:45:16,653 INFO     Initializing report handler...\n",
      "2025-01-04 09:45:16,654 INFO     report_dir set to: ./leakpro_output/results\n",
      "2025-01-04 09:45:16,654 INFO     Saving results for rmia\n"
     ]
    },
    {
     "name": "stderr",
     "output_type": "stream",
     "text": [
      "2025-01-04 09:45:20,466 INFO     Saving results for lira\n"
     ]
    },
    {
     "data": {
      "text/plain": [
       "<Figure size 640x480 with 0 Axes>"
      ]
     },
     "metadata": {},
     "output_type": "display_data"
    }
   ],
   "source": [
    "\n",
    "# Import and initialize ReportHandler\n",
    "from leakpro.reporting.report_handler import ReportHandler\n",
    "\n",
    "# report_handler = ReportHandler()\n",
    "report_handler = ReportHandler(report_dir=\"./leakpro_output/results\")\n",
    "\n",
    "# Save MIA resuls using report handler\n",
    "for res in mia_results:\n",
    "    report_handler.save_results(attack_name=res.attack_name, result_data=res, config=res.configs)"
   ]
  },
  {
   "cell_type": "code",
   "execution_count": 11,
   "metadata": {},
   "outputs": [
    {
     "name": "stderr",
     "output_type": "stream",
     "text": [
      "2025-01-04 09:45:33,289 INFO     No results of type GIAResults found.\n",
      "2025-01-04 09:45:33,289 INFO     No results of type SinglingOutResults found.\n",
      "2025-01-04 09:45:33,290 INFO     No results of type InferenceResults found.\n",
      "2025-01-04 09:45:33,290 INFO     No results of type LinkabilityResults found.\n",
      "2025-01-04 09:45:40,303 INFO     PDF compiled\n"
     ]
    },
    {
     "data": {
      "text/plain": [
       "<Figure size 640x480 with 0 Axes>"
      ]
     },
     "metadata": {},
     "output_type": "display_data"
    }
   ],
   "source": [
    "\n",
    "# # Create the report by compiling the latex text\n",
    "report_handler.create_report()"
   ]
  },
  {
   "cell_type": "code",
   "execution_count": null,
   "metadata": {},
   "outputs": [],
   "source": []
  }
 ],
 "metadata": {
  "kernelspec": {
   "display_name": "leakpro_test",
   "language": "python",
   "name": "python3"
  },
  "language_info": {
   "codemirror_mode": {
    "name": "ipython",
    "version": 3
   },
   "file_extension": ".py",
   "mimetype": "text/x-python",
   "name": "python",
   "nbconvert_exporter": "python",
   "pygments_lexer": "ipython3",
   "version": "3.12.2"
  }
 },
 "nbformat": 4,
 "nbformat_minor": 2
}
